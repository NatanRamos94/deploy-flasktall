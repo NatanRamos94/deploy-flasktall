{
 "cells": [
  {
   "cell_type": "code",
   "execution_count": null,
   "id": "1910b0d5",
   "metadata": {},
   "outputs": [],
   "source": [
    "import numpy as np\n",
    "import pandas as pd\n",
    "import matplotlib.pyplot as plt\n",
    "import seaborn as sns"
   ]
  },
  {
   "cell_type": "code",
   "execution_count": null,
   "id": "8fa905de",
   "metadata": {},
   "outputs": [],
   "source": [
    "# Cargamos el dataset a un DataFrame de pandas\n",
    "dfdata = pd.read_csv(\"mhealth_raw_data.csv\")"
   ]
  },
  {
   "cell_type": "code",
   "execution_count": null,
   "id": "5b905181",
   "metadata": {},
   "outputs": [],
   "source": [
    "dfdata.head()"
   ]
  },
  {
   "cell_type": "code",
   "execution_count": null,
   "id": "758131eb",
   "metadata": {},
   "outputs": [],
   "source": [
    "dfdata.tail()"
   ]
  },
  {
   "cell_type": "code",
   "execution_count": null,
   "id": "ac0dcfa6",
   "metadata": {},
   "outputs": [],
   "source": [
    "dfdata.count()"
   ]
  },
  {
   "cell_type": "code",
   "execution_count": null,
   "id": "40c014e0",
   "metadata": {},
   "outputs": [],
   "source": [
    "dfdata.isnull().sum()"
   ]
  },
  {
   "cell_type": "code",
   "execution_count": null,
   "id": "789d6aae",
   "metadata": {},
   "outputs": [],
   "source": [
    "dfdata.describe()"
   ]
  },
  {
   "cell_type": "code",
   "execution_count": null,
   "id": "61b9b422",
   "metadata": {},
   "outputs": [],
   "source": [
    "# Verificar el tipo y número de Actividades\n",
    "dfdata.Activity.unique()"
   ]
  },
  {
   "cell_type": "code",
   "execution_count": null,
   "id": "af59852e",
   "metadata": {},
   "outputs": [],
   "source": [
    "# Creamos una lista con los labels de las Actividades\n",
    "# La actividad 0 es None. Se eliminó esa actividad\n",
    "labels = ['Standing still','Sitting and relaxing','Lying down','Walking'\n",
    "         ,'Climbing stairs','Waist bends forward','Frontal elevation of arms'\n",
    "         , 'Knees bending', 'Cycling','Jogging','Running','Jump']\n",
    "\n",
    "labels"
   ]
  },
  {
   "cell_type": "code",
   "execution_count": null,
   "id": "7c4a8bad",
   "metadata": {},
   "outputs": [],
   "source": [
    "# Graficamos el numero de datos asociado a cada Actividad\n",
    "sns.countplot(x='Activity',data=dfdata)\n",
    "plt.xticks(x = dfdata['Activity'])\n",
    "plt.show()"
   ]
  },
  {
   "cell_type": "code",
   "execution_count": null,
   "id": "abca017b",
   "metadata": {},
   "outputs": [],
   "source": [
    "# Verificamos cuantos datos tiene la actividad 12\n",
    "dfdata[dfdata['Activity']==12].count()"
   ]
  },
  {
   "cell_type": "code",
   "execution_count": null,
   "id": "83f79cb2",
   "metadata": {},
   "outputs": [],
   "source": [
    "# Submeastreamos el dataset para hacer que sea balanceado\n",
    "from sklearn.utils import resample\n",
    "\n",
    "dfdata2 = pd.DataFrame()\n",
    "for i in range(12):\n",
    "    df_aux = dfdata[dfdata.Activity==i+1]\n",
    "    df_aux = resample(df_aux, n_samples=10324, random_state=12)\n",
    "    dfdata2 = pd.concat([dfdata2,df_aux])\n",
    "    \n",
    "#dfdata2.Activity.value_counts()"
   ]
  },
  {
   "cell_type": "code",
   "execution_count": null,
   "id": "71842519",
   "metadata": {},
   "outputs": [],
   "source": [
    "dfdata2.Activity.unique()"
   ]
  },
  {
   "cell_type": "code",
   "execution_count": null,
   "id": "349ba61f",
   "metadata": {},
   "outputs": [],
   "source": [
    "dfdata2['Activity'] = dfdata2['Activity']-1"
   ]
  },
  {
   "cell_type": "code",
   "execution_count": null,
   "id": "ff715e6d",
   "metadata": {},
   "outputs": [],
   "source": [
    "# Graficamos el numero de datos asociado a cada Actividad\n",
    "sns.countplot(x='Activity',data=dfdata2)\n",
    "plt.xticks(x = dfdata2['Activity'])\n",
    "plt.show()"
   ]
  },
  {
   "cell_type": "code",
   "execution_count": null,
   "id": "2b4b87d7",
   "metadata": {},
   "outputs": [],
   "source": [
    "dfdata2.head()"
   ]
  },
  {
   "cell_type": "code",
   "execution_count": null,
   "id": "94418e81",
   "metadata": {},
   "outputs": [],
   "source": [
    "# Construimos las variables independientes\n",
    "X = dfdata2.drop(['subject','Activity'],axis = 1)\n",
    "Y = dfdata2['Activity']\n",
    "\n",
    "# Convertir esos dataframes en array numpy\n",
    "X = np.asarray(X)\n",
    "Y = np.asarray(Y)\n",
    "\n",
    "print(X.shape,Y.shape)"
   ]
  },
  {
   "cell_type": "code",
   "execution_count": null,
   "id": "0886e46b",
   "metadata": {},
   "outputs": [],
   "source": [
    "# Dividimos el dataset en datos de entrenamiento y prueba\n",
    "from sklearn.model_selection import train_test_split\n",
    "\n",
    "xtrain, xtest, ytrain, ytest = train_test_split(X, Y, test_size = 0.2, random_state = 42)\n",
    "\n",
    "xtrain.shape, xtest.shape, ytrain.shape, ytest.shape"
   ]
  },
  {
   "cell_type": "code",
   "execution_count": null,
   "id": "92a3cb6c",
   "metadata": {},
   "outputs": [],
   "source": [
    "ytrain"
   ]
  },
  {
   "cell_type": "code",
   "execution_count": null,
   "id": "cef38f3a",
   "metadata": {},
   "outputs": [],
   "source": [
    "# Usar un encoder para convertir ytrain en una matriz\n",
    "\n",
    "from sklearn.preprocessing import OneHotEncoder\n",
    "\n",
    "enc = OneHotEncoder(handle_unknown='ignore')\n",
    "enc.fit(np.asarray(ytrain).reshape(-1,1))\n",
    "\n",
    "y_train = enc.transform(np.asarray(ytrain).reshape(-1,1)).toarray()\n",
    "y_test = enc.transform(np.asarray(ytest).reshape(-1,1)).toarray()"
   ]
  },
  {
   "cell_type": "code",
   "execution_count": null,
   "id": "bbfcd47c",
   "metadata": {},
   "outputs": [],
   "source": [
    "xtrain.shape"
   ]
  },
  {
   "cell_type": "code",
   "execution_count": null,
   "id": "cc17653f",
   "metadata": {},
   "outputs": [],
   "source": [
    "# Contruir un modelo de red neuronal con 12 clases\n",
    "\n",
    "from tensorflow.keras.models import Sequential\n",
    "from tensorflow.keras.layers import Dense, Dropout\n",
    "\n",
    "num_clases = 12\n",
    "\n",
    "model = Sequential()\n",
    "model.add(Dense(256, input_shape=(xtrain.shape[1],),activation='relu'))\n",
    "model.add(Dropout(0.1))\n",
    "model.add(Dense(256,activation='relu'))\n",
    "model.add(Dropout(0.1))\n",
    "model.add(Dense(128,activation='relu'))\n",
    "model.add(Dropout(0.1))\n",
    "model.add(Dense(128,activation='relu'))\n",
    "model.add(Dropout(0.1))\n",
    "model.add(Dense(64,activation='relu'))\n",
    "model.add(Dropout(0.1))\n",
    "model.add(Dense(64,activation='relu'))\n",
    "model.add(Dropout(0.1))\n",
    "model.add(Dense(32,activation='relu'))\n",
    "model.add(Dropout(0.1))\n",
    "model.add(Dense(32,activation='relu'))\n",
    "model.add(Dropout(0.1))\n",
    "\n",
    "model.add(Dense(num_clases,activation='softmax'))\n",
    "\n",
    "model.compile(loss='categorical_crossentropy', optimizer = 'adam',metrics=['accuracy'])\n",
    "\n",
    "model.summary()\n"
   ]
  },
  {
   "cell_type": "code",
   "execution_count": null,
   "id": "bea61197",
   "metadata": {},
   "outputs": [],
   "source": [
    "# Entrenamos el modelo durante 100 epocas con batch_size = 32\n",
    "\n",
    "epochsk = 100\n",
    "batch_size = 32\n",
    "\n",
    "history = model.fit(xtrain,y_train, epochs = epochs, batch_size = batch_size, verbose =1, validation_split = 0.1)"
   ]
  },
  {
   "cell_type": "code",
   "execution_count": null,
   "id": "1c70eb61",
   "metadata": {},
   "outputs": [],
   "source": [
    "# Guardamos el modelo en disco\n",
    "\n",
    "model.save('ANN.h5')"
   ]
  },
  {
   "cell_type": "code",
   "execution_count": null,
   "id": "a2221374",
   "metadata": {},
   "outputs": [],
   "source": [
    "from tensorflow.keras.models import load_model # cargar modelo\n",
    "model = load_model('ANN.h5')"
   ]
  },
  {
   "cell_type": "code",
   "execution_count": null,
   "id": "06bbd52f",
   "metadata": {},
   "outputs": [],
   "source": [
    "plt.subplot(2,1,1)\n",
    "plt.plot(history.history['loss'])# curvas\n",
    "plt.plot(history.history['val_loss'])\n",
    "plt.legend(['train loss','val_loss'])\n",
    "\n",
    "plt.subplot(2,1,2)\n",
    "plt.plot(history.history['accuracy'])# curvas\n",
    "plt.plot(history.history['val_accuracy'])\n",
    "plt.legend(['Train acc','val_acc'])\n",
    "\n",
    "#plt.show()#"
   ]
  },
  {
   "cell_type": "code",
   "execution_count": null,
   "id": "9c66ff2d",
   "metadata": {},
   "outputs": [],
   "source": [
    "#mostrar matriz de comfusion \n",
    "!pip install mlxtend\n"
   ]
  },
  {
   "cell_type": "code",
   "execution_count": null,
   "id": "e815c02e",
   "metadata": {},
   "outputs": [],
   "source": [
    "#calculamos la matriz de confusion \n",
    "from mlxtend.plotting import plot_confusion_matrix\n",
    "from sklearn.metrics import confusion_matrix\n",
    "from sklearn import metrics\n",
    "\n",
    "ypred= model.predict(xtest)\n",
    "matriz=confusion_matrix(ytest, np.argmax(ypred, axis= 1))\n",
    "plot_confusion_matrix(conf_mat=matriz, figsize=(6,6), show_normed =False)\n",
    "plt.tight_layout()\n",
    "\n",
    "print (metrics.classification_report(ytest, np.argmax(ypred, axis= 1), digits=4))\n",
    "\n"
   ]
  },
  {
   "cell_type": "code",
   "execution_count": null,
   "id": "c36491cb",
   "metadata": {},
   "outputs": [],
   "source": [
    "#probamos un dato nuevo con el modelo\n",
    "xin = np.array([0.69176, -9.8498, 1.16030, -0.54545, -0.77111, 0.36149, -2.7749, -9.2509, 0.91246, -0.81373, -0.69199, -0.16595])\n",
    "xin.shape\n"
   ]
  },
  {
   "cell_type": "code",
   "execution_count": null,
   "id": "a877fbad",
   "metadata": {},
   "outputs": [],
   "source": [
    "xin = xin.reshape(1, 12)\n",
    "xin.shape"
   ]
  },
  {
   "cell_type": "code",
   "execution_count": null,
   "id": "0dd2c826",
   "metadata": {},
   "outputs": [],
   "source": [
    "yout = model.predict(xin)\n",
    "yout"
   ]
  },
  {
   "cell_type": "code",
   "execution_count": null,
   "id": "b488ce2f",
   "metadata": {},
   "outputs": [],
   "source": [
    "yout=np.argmax(yout, axis=1) #valor mayor de esa lista\n",
    "yout"
   ]
  },
  {
   "cell_type": "code",
   "execution_count": null,
   "id": "d7691f3b",
   "metadata": {},
   "outputs": [],
   "source": [
    "labels[yout[0]]"
   ]
  },
  {
   "cell_type": "code",
   "execution_count": null,
   "id": "b6bc859b",
   "metadata": {},
   "outputs": [],
   "source": [
    "xin= np.array[1.1806,-11.45,1.5122,0.42486,-0.85178,-0.65619,-1.7528,-7.6336,6.6392,0.43922,-1.1499,0.17672]\n",
    "xin.shape"
   ]
  },
  {
   "cell_type": "code",
   "execution_count": null,
   "id": "b8fe2602",
   "metadata": {},
   "outputs": [],
   "source": []
  },
  {
   "cell_type": "code",
   "execution_count": null,
   "id": "ab231268",
   "metadata": {},
   "outputs": [],
   "source": []
  },
  {
   "cell_type": "code",
   "execution_count": null,
   "id": "982f4251",
   "metadata": {},
   "outputs": [],
   "source": []
  },
  {
   "cell_type": "code",
   "execution_count": null,
   "id": "7e52ba40",
   "metadata": {},
   "outputs": [],
   "source": []
  }
 ],
 "metadata": {
  "kernelspec": {
   "display_name": "entornomp1",
   "language": "python",
   "name": "entornomp1"
  },
  "language_info": {
   "codemirror_mode": {
    "name": "ipython",
    "version": 3
   },
   "file_extension": ".py",
   "mimetype": "text/x-python",
   "name": "python",
   "nbconvert_exporter": "python",
   "pygments_lexer": "ipython3",
   "version": "3.7.10"
  }
 },
 "nbformat": 4,
 "nbformat_minor": 5
}
