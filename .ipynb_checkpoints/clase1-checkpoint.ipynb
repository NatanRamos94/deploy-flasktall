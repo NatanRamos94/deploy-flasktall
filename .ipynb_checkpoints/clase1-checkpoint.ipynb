{
 "cells": [
  {
   "cell_type": "code",
   "execution_count": 2,
   "id": "ad2de959",
   "metadata": {},
   "outputs": [],
   "source": [
    "import pandas as pd\n",
    "import numpy as np\n",
    "import sklearn\n",
    "import matplotlib.pyplot as plt\n",
    "import scipy\n",
    "import seaborn\n",
    "\n"
   ]
  },
  {
   "cell_type": "code",
   "execution_count": 3,
   "id": "5010fd84",
   "metadata": {},
   "outputs": [
    {
     "name": "stdout",
     "output_type": "stream",
     "text": [
      "Python 3.7.10\n"
     ]
    }
   ],
   "source": [
    "!python --version\n"
   ]
  },
  {
   "cell_type": "code",
   "execution_count": 6,
   "id": "d2e5920f",
   "metadata": {},
   "outputs": [
    {
     "name": "stdout",
     "output_type": "stream",
     "text": [
      "[ 5 12  3]\n",
      "shape (3,)\n",
      "<class 'numpy.ndarray'>\n"
     ]
    }
   ],
   "source": [
    "#crear un array en 1D\n",
    "arr = np.array ([5, 12, 3])\n",
    "print(arr)\n",
    "print('shape' , arr.shape)\n",
    "print(type (arr))"
   ]
  },
  {
   "cell_type": "code",
   "execution_count": 7,
   "id": "977626fb",
   "metadata": {},
   "outputs": [
    {
     "name": "stdout",
     "output_type": "stream",
     "text": [
      "[[1 3 5]\n",
      " [5 6 9]]\n",
      "shape (2, 3)\n"
     ]
    }
   ],
   "source": [
    "#cerar un array 2D\n",
    "arr2D = np.array([[1,3,5],[5,6,9]])\n",
    "print (arr2D)\n",
    "print('shape' , arr2D.shape)\n"
   ]
  },
  {
   "cell_type": "code",
   "execution_count": 9,
   "id": "089fbb92",
   "metadata": {},
   "outputs": [
    {
     "name": "stdout",
     "output_type": "stream",
     "text": [
      "[3 3]\n",
      "shape (2,)\n"
     ]
    }
   ],
   "source": [
    "# crear array de ceros\n",
    "arr = np.array ((3,3))\n",
    "print(arr)\n",
    "print('shape' , arr.shape)\n"
   ]
  },
  {
   "cell_type": "code",
   "execution_count": 10,
   "id": "a9aaf511",
   "metadata": {},
   "outputs": [
    {
     "data": {
      "text/plain": [
       "array([[1., 0., 0.],\n",
       "       [0., 1., 0.],\n",
       "       [0., 0., 1.]])"
      ]
     },
     "execution_count": 10,
     "metadata": {},
     "output_type": "execute_result"
    }
   ],
   "source": [
    "#crear array con identidad\n",
    "arr = np.eye(3)\n",
    "arr"
   ]
  },
  {
   "cell_type": "code",
   "execution_count": 12,
   "id": "b08e7823",
   "metadata": {},
   "outputs": [
    {
     "data": {
      "text/plain": [
       "array([[0.84221598],\n",
       "       [0.0604296 ],\n",
       "       [0.58852809],\n",
       "       [0.14555772],\n",
       "       [0.4835901 ]])"
      ]
     },
     "execution_count": 12,
     "metadata": {},
     "output_type": "execute_result"
    }
   ],
   "source": [
    "arr = np.random.random((5,1))\n",
    "arr\n"
   ]
  },
  {
   "cell_type": "code",
   "execution_count": 13,
   "id": "4df9b041",
   "metadata": {},
   "outputs": [
    {
     "data": {
      "text/plain": [
       "array([[ 1,  3,  5],\n",
       "       [ 5,  6,  9],\n",
       "       [12, 11, 10]])"
      ]
     },
     "execution_count": 13,
     "metadata": {},
     "output_type": "execute_result"
    }
   ],
   "source": [
    "arr2D = np.array([[1,3,5],[5,6,9],[12,11,10]])\n",
    "arr2D\n"
   ]
  },
  {
   "cell_type": "code",
   "execution_count": 14,
   "id": "fa972674",
   "metadata": {},
   "outputs": [
    {
     "data": {
      "text/plain": [
       "array([[1, 3],\n",
       "       [5, 6]])"
      ]
     },
     "execution_count": 14,
     "metadata": {},
     "output_type": "execute_result"
    }
   ],
   "source": [
    "# Acceso a numpy array\n",
    "arr2D[0:2,0:2]"
   ]
  },
  {
   "cell_type": "code",
   "execution_count": 15,
   "id": "0cb00cf3",
   "metadata": {},
   "outputs": [
    {
     "data": {
      "text/plain": [
       "array([[3, 5],\n",
       "       [1, 2],\n",
       "       [4, 6]])"
      ]
     },
     "execution_count": 15,
     "metadata": {},
     "output_type": "execute_result"
    }
   ],
   "source": [
    "arr2D = np.array([[3,5],[1,2],[4,6]])\n",
    "arr2D\n",
    "\n",
    "\n"
   ]
  },
  {
   "cell_type": "code",
   "execution_count": 18,
   "id": "f3cdaa1c",
   "metadata": {},
   "outputs": [
    {
     "name": "stdout",
     "output_type": "stream",
     "text": [
      "int32 float64 float64\n"
     ]
    },
    {
     "name": "stderr",
     "output_type": "stream",
     "text": [
      "C:\\Users\\HP\\anaconda3\\envs\\entornomp1\\lib\\site-packages\\ipykernel_launcher.py:4: DeprecationWarning: `np.float` is a deprecated alias for the builtin `float`. To silence this warning, use `float` by itself. Doing this will not modify any behavior and is safe. If you specifically wanted the numpy scalar type, use `np.float64` here.\n",
      "Deprecated in NumPy 1.20; for more details and guidance: https://numpy.org/devdocs/release/1.20.0-notes.html#deprecations\n",
      "  after removing the cwd from sys.path.\n"
     ]
    }
   ],
   "source": [
    "\n",
    "#definir tipos de datos en arrays\n",
    "arr = np.array([3,5,1])\n",
    "arr2 = np.array([3.0,5.0,1.0])\n",
    "arr3 = np.array([3,5,1], dtype = np.float)\n",
    "print(arr.dtype, arr2.dtype, arr3.dtype)\n",
    "\n",
    "                  "
   ]
  },
  {
   "cell_type": "code",
   "execution_count": 19,
   "id": "5a8eb90d",
   "metadata": {},
   "outputs": [
    {
     "name": "stdout",
     "output_type": "stream",
     "text": [
      "[[3 5]\n",
      " [1 2]\n",
      " [4 6]]\n"
     ]
    },
    {
     "data": {
      "text/plain": [
       "array([3, 5, 1, 2, 4, 6])"
      ]
     },
     "execution_count": 19,
     "metadata": {},
     "output_type": "execute_result"
    }
   ],
   "source": [
    "#reshape array\n",
    "arr = np.array([[3,5],[1,2],[4,6]])\n",
    "print(arr)\n",
    "arr.reshape(6,)\n"
   ]
  },
  {
   "cell_type": "code",
   "execution_count": 21,
   "id": "6f875983",
   "metadata": {},
   "outputs": [
    {
     "name": "stdout",
     "output_type": "stream",
     "text": [
      "21\n",
      "[ 8 13]\n",
      "[ 8  3 10]\n"
     ]
    }
   ],
   "source": [
    "#calculo de la suma de los elementos\n",
    "arr = arr = np.array([[3,5],[1,2],[4,6]])\n",
    "print(np.sum(arr))\n",
    "print(np.sum(arr, axis = 0))#sumar todas las filas\n",
    "print(np.sum(arr, axis = 1))#sumar todas las columnas"
   ]
  },
  {
   "cell_type": "code",
   "execution_count": 24,
   "id": "6b8e003b",
   "metadata": {},
   "outputs": [
    {
     "data": {
      "image/png": "[encoded data removed]",
      "text/plain": [
       "<Figure size 432x288 with 1 Axes>"
      ]
     },
     "metadata": {
      "needs_background": "light"
     },
     "output_type": "display_data"
    }
   ],
   "source": [
    "#graficar\n",
    "\n",
    "%matplotlib inline\n",
    "x = np.arange(0,4*np.pi,0.1)\n",
    "y = np.cos(x)\n",
    "plt.plot(x, y)\n",
    "plt.title('funcion coseno')\n",
    "plt.xlabel('x')\n",
    "plt.ylabel('y')\n",
    "plt.show()"
   ]
  },
  {
   "cell_type": "code",
   "execution_count": 26,
   "id": "d0adba7b",
   "metadata": {},
   "outputs": [
    {
     "data": {
      "image/png": "[encoded data removed]",
      "text/plain": [
       "<Figure size 432x288 with 1 Axes>"
      ]
     },
     "metadata": {
      "needs_background": "light"
     },
     "output_type": "display_data"
    }
   ],
   "source": [
    "#graficar 2 curvas en un plot\n",
    "x = np.arange(0,4*np.pi,0.1)\n",
    "y = np.cos(x)\n",
    "y2 = np.sin(x)\n",
    "plt.plot(x, y)\n",
    "plt.plot(x, y2)\n",
    "plt.legend(['coseno','seno'])\n",
    "plt.title('funcion coseno')\n",
    "plt.xlabel('x')\n",
    "plt.ylabel('y')\n",
    "plt.show()\n"
   ]
  },
  {
   "cell_type": "code",
   "execution_count": 27,
   "id": "90a34069",
   "metadata": {},
   "outputs": [
    {
     "data": {
      "image/png": "[encoded data removed]",
      "text/plain": [
       "<Figure size 432x288 with 2 Axes>"
      ]
     },
     "metadata": {
      "needs_background": "light"
     },
     "output_type": "display_data"
    }
   ],
   "source": [
    "#graficar 2 curvas con subplot\n",
    "x = np.arange(0,4*np.pi,0.1)\n",
    "y = np.cos(x)\n",
    "y2 = np.sin(x)\n",
    "\n",
    "plt.subplot(2,1,1)\n",
    "plt.plot(x, y)\n",
    "plt.title('funcion coseno')\n",
    "\n",
    "plt.subplot(2,1,2)\n",
    "plt.plot(x, y2)\n",
    "plt.title('funcion seno')\n",
    "plt.show()"
   ]
  },
  {
   "cell_type": "markdown",
   "id": "a00ecc28",
   "metadata": {},
   "source": [
    "#   Pandas\n",
    "DataFrames Series\n"
   ]
  },
  {
   "cell_type": "code",
   "execution_count": 29,
   "id": "0f325476",
   "metadata": {},
   "outputs": [
    {
     "data": {
      "text/html": [
       "<div>\n",
       "<style scoped>\n",
       "    .dataframe tbody tr th:only-of-type {\n",
       "        vertical-align: middle;\n",
       "    }\n",
       "\n",
       "    .dataframe tbody tr th {\n",
       "        vertical-align: top;\n",
       "    }\n",
       "\n",
       "    .dataframe thead th {\n",
       "        text-align: right;\n",
       "    }\n",
       "</style>\n",
       "<table border=\"1\" class=\"dataframe\">\n",
       "  <thead>\n",
       "    <tr style=\"text-align: right;\">\n",
       "      <th></th>\n",
       "      <th>city</th>\n",
       "      <th>temp</th>\n",
       "    </tr>\n",
       "  </thead>\n",
       "  <tbody>\n",
       "    <tr>\n",
       "      <th>0</th>\n",
       "      <td>popayan</td>\n",
       "      <td>23</td>\n",
       "    </tr>\n",
       "    <tr>\n",
       "      <th>1</th>\n",
       "      <td>cali</td>\n",
       "      <td>28</td>\n",
       "    </tr>\n",
       "    <tr>\n",
       "      <th>2</th>\n",
       "      <td>Bogota</td>\n",
       "      <td>19</td>\n",
       "    </tr>\n",
       "  </tbody>\n",
       "</table>\n",
       "</div>"
      ],
      "text/plain": [
       "      city  temp\n",
       "0  popayan    23\n",
       "1     cali    28\n",
       "2   Bogota    19"
      ]
     },
     "execution_count": 29,
     "metadata": {},
     "output_type": "execute_result"
    }
   ],
   "source": [
    "#crear un dataframes con series\n",
    "city = pd.Series(['popayan','cali','Bogota'])\n",
    "temp = pd.Series([23,28,19])\n",
    "df_weather = pd.DataFrame({'city':city,'temp':temp})\n",
    "df_weather.head()"
   ]
  },
  {
   "cell_type": "code",
   "execution_count": 30,
   "id": "77f8c0fc",
   "metadata": {},
   "outputs": [
    {
     "data": {
      "text/plain": [
       "0    popayan\n",
       "1       cali\n",
       "2     Bogota\n",
       "Name: city, dtype: object"
      ]
     },
     "execution_count": 30,
     "metadata": {},
     "output_type": "execute_result"
    }
   ],
   "source": [
    "#acceder a una columna\n",
    "df_weather['city']\n"
   ]
  },
  {
   "cell_type": "code",
   "execution_count": 31,
   "id": "a6c83371",
   "metadata": {},
   "outputs": [
    {
     "data": {
      "text/plain": [
       "'Bogota'"
      ]
     },
     "execution_count": 31,
     "metadata": {},
     "output_type": "execute_result"
    }
   ],
   "source": [
    "#acceder a un elemento en particular\n",
    "df_weather['city'][2]"
   ]
  },
  {
   "cell_type": "code",
   "execution_count": 32,
   "id": "b050ada1",
   "metadata": {},
   "outputs": [
    {
     "data": {
      "text/html": [
       "<div>\n",
       "<style scoped>\n",
       "    .dataframe tbody tr th:only-of-type {\n",
       "        vertical-align: middle;\n",
       "    }\n",
       "\n",
       "    .dataframe tbody tr th {\n",
       "        vertical-align: top;\n",
       "    }\n",
       "\n",
       "    .dataframe thead th {\n",
       "        text-align: right;\n",
       "    }\n",
       "</style>\n",
       "<table border=\"1\" class=\"dataframe\">\n",
       "  <thead>\n",
       "    <tr style=\"text-align: right;\">\n",
       "      <th></th>\n",
       "      <th>city</th>\n",
       "      <th>temp</th>\n",
       "    </tr>\n",
       "  </thead>\n",
       "  <tbody>\n",
       "    <tr>\n",
       "      <th>0</th>\n",
       "      <td>popayan</td>\n",
       "      <td>23</td>\n",
       "    </tr>\n",
       "    <tr>\n",
       "      <th>1</th>\n",
       "      <td>cali</td>\n",
       "      <td>28</td>\n",
       "    </tr>\n",
       "  </tbody>\n",
       "</table>\n",
       "</div>"
      ],
      "text/plain": [
       "      city  temp\n",
       "0  popayan    23\n",
       "1     cali    28"
      ]
     },
     "execution_count": 32,
     "metadata": {},
     "output_type": "execute_result"
    }
   ],
   "source": [
    "#Acceder al dataframe\n",
    "df_weather[0:2]"
   ]
  },
  {
   "cell_type": "code",
   "execution_count": 34,
   "id": "501f4a15",
   "metadata": {},
   "outputs": [
    {
     "data": {
      "text/html": [
       "<div>\n",
       "<style scoped>\n",
       "    .dataframe tbody tr th:only-of-type {\n",
       "        vertical-align: middle;\n",
       "    }\n",
       "\n",
       "    .dataframe tbody tr th {\n",
       "        vertical-align: top;\n",
       "    }\n",
       "\n",
       "    .dataframe thead th {\n",
       "        text-align: right;\n",
       "    }\n",
       "</style>\n",
       "<table border=\"1\" class=\"dataframe\">\n",
       "  <thead>\n",
       "    <tr style=\"text-align: right;\">\n",
       "      <th></th>\n",
       "      <th>city</th>\n",
       "      <th>temp</th>\n",
       "    </tr>\n",
       "  </thead>\n",
       "  <tbody>\n",
       "    <tr>\n",
       "      <th>0</th>\n",
       "      <td>popayan</td>\n",
       "      <td>23</td>\n",
       "    </tr>\n",
       "    <tr>\n",
       "      <th>1</th>\n",
       "      <td>cali</td>\n",
       "      <td>28</td>\n",
       "    </tr>\n",
       "    <tr>\n",
       "      <th>2</th>\n",
       "      <td>Bogota</td>\n",
       "      <td>19</td>\n",
       "    </tr>\n",
       "  </tbody>\n",
       "</table>\n",
       "</div>"
      ],
      "text/plain": [
       "      city  temp\n",
       "0  popayan    23\n",
       "1     cali    28\n",
       "2   Bogota    19"
      ]
     },
     "execution_count": 34,
     "metadata": {},
     "output_type": "execute_result"
    }
   ],
   "source": [
    "#Acceder a columna con Loc\n",
    "df_weather.loc[:,['city','temp']]"
   ]
  },
  {
   "cell_type": "code",
   "execution_count": 35,
   "id": "d64eeaa0",
   "metadata": {},
   "outputs": [
    {
     "data": {
      "text/plain": [
       "0     True\n",
       "1    False\n",
       "2     True\n",
       "Name: temp, dtype: bool"
      ]
     },
     "execution_count": 35,
     "metadata": {},
     "output_type": "execute_result"
    }
   ],
   "source": [
    "#operaciones lambda con DataFrame usando apply\n",
    "\n",
    "df_weather['temp'].apply(lambda T: T < 28)\n"
   ]
  },
  {
   "cell_type": "code",
   "execution_count": 36,
   "id": "7590dfe8",
   "metadata": {},
   "outputs": [
    {
     "data": {
      "text/html": [
       "<div>\n",
       "<style scoped>\n",
       "    .dataframe tbody tr th:only-of-type {\n",
       "        vertical-align: middle;\n",
       "    }\n",
       "\n",
       "    .dataframe tbody tr th {\n",
       "        vertical-align: top;\n",
       "    }\n",
       "\n",
       "    .dataframe thead th {\n",
       "        text-align: right;\n",
       "    }\n",
       "</style>\n",
       "<table border=\"1\" class=\"dataframe\">\n",
       "  <thead>\n",
       "    <tr style=\"text-align: right;\">\n",
       "      <th></th>\n",
       "      <th>city</th>\n",
       "      <th>temp</th>\n",
       "      <th>Elevation</th>\n",
       "    </tr>\n",
       "  </thead>\n",
       "  <tbody>\n",
       "    <tr>\n",
       "      <th>0</th>\n",
       "      <td>popayan</td>\n",
       "      <td>23</td>\n",
       "      <td>1700</td>\n",
       "    </tr>\n",
       "    <tr>\n",
       "      <th>1</th>\n",
       "      <td>cali</td>\n",
       "      <td>28</td>\n",
       "      <td>1200</td>\n",
       "    </tr>\n",
       "    <tr>\n",
       "      <th>2</th>\n",
       "      <td>Bogota</td>\n",
       "      <td>19</td>\n",
       "      <td>2500</td>\n",
       "    </tr>\n",
       "  </tbody>\n",
       "</table>\n",
       "</div>"
      ],
      "text/plain": [
       "      city  temp  Elevation\n",
       "0  popayan    23       1700\n",
       "1     cali    28       1200\n",
       "2   Bogota    19       2500"
      ]
     },
     "execution_count": 36,
     "metadata": {},
     "output_type": "execute_result"
    }
   ],
   "source": [
    "#agregar serie al DtaFrame\n",
    "df_weather['Elevation'] = pd.Series([1700, 1200, 2500])\n",
    "df_weather.head()"
   ]
  },
  {
   "cell_type": "code",
   "execution_count": 37,
   "id": "6c56e562",
   "metadata": {},
   "outputs": [
    {
     "data": {
      "text/html": [
       "<div>\n",
       "<style scoped>\n",
       "    .dataframe tbody tr th:only-of-type {\n",
       "        vertical-align: middle;\n",
       "    }\n",
       "\n",
       "    .dataframe tbody tr th {\n",
       "        vertical-align: top;\n",
       "    }\n",
       "\n",
       "    .dataframe thead th {\n",
       "        text-align: right;\n",
       "    }\n",
       "</style>\n",
       "<table border=\"1\" class=\"dataframe\">\n",
       "  <thead>\n",
       "    <tr style=\"text-align: right;\">\n",
       "      <th></th>\n",
       "      <th>city</th>\n",
       "      <th>temp</th>\n",
       "    </tr>\n",
       "  </thead>\n",
       "  <tbody>\n",
       "    <tr>\n",
       "      <th>0</th>\n",
       "      <td>popayan</td>\n",
       "      <td>23</td>\n",
       "    </tr>\n",
       "    <tr>\n",
       "      <th>1</th>\n",
       "      <td>cali</td>\n",
       "      <td>28</td>\n",
       "    </tr>\n",
       "    <tr>\n",
       "      <th>2</th>\n",
       "      <td>Bogota</td>\n",
       "      <td>19</td>\n",
       "    </tr>\n",
       "  </tbody>\n",
       "</table>\n",
       "</div>"
      ],
      "text/plain": [
       "      city  temp\n",
       "0  popayan    23\n",
       "1     cali    28\n",
       "2   Bogota    19"
      ]
     },
     "execution_count": 37,
     "metadata": {},
     "output_type": "execute_result"
    }
   ],
   "source": [
    "#Remover series del DataFrame\n",
    "df_aux= df_weather.drop(labels='Elevation',axis=1)\n",
    "df_aux.head()"
   ]
  },
  {
   "cell_type": "code",
   "execution_count": 38,
   "id": "35f2087b",
   "metadata": {},
   "outputs": [
    {
     "data": {
      "text/plain": [
       "array([['popayan', 23],\n",
       "       ['cali', 28],\n",
       "       ['Bogota', 19]], dtype=object)"
      ]
     },
     "execution_count": 38,
     "metadata": {},
     "output_type": "execute_result"
    }
   ],
   "source": [
    "#convertir dataframe a numpy array\n",
    "array = df_aux.to_numpy()\n",
    "array"
   ]
  },
  {
   "cell_type": "code",
   "execution_count": 39,
   "id": "2fe993a0",
   "metadata": {},
   "outputs": [
    {
     "data": {
      "text/plain": [
       "pandas.core.frame.DataFrame"
      ]
     },
     "execution_count": 39,
     "metadata": {},
     "output_type": "execute_result"
    }
   ],
   "source": [
    "type(df_aux)"
   ]
  },
  {
   "cell_type": "code",
   "execution_count": 41,
   "id": "d5e5353b",
   "metadata": {},
   "outputs": [
    {
     "data": {
      "text/html": [
       "<div>\n",
       "<style scoped>\n",
       "    .dataframe tbody tr th:only-of-type {\n",
       "        vertical-align: middle;\n",
       "    }\n",
       "\n",
       "    .dataframe tbody tr th {\n",
       "        vertical-align: top;\n",
       "    }\n",
       "\n",
       "    .dataframe thead th {\n",
       "        text-align: right;\n",
       "    }\n",
       "</style>\n",
       "<table border=\"1\" class=\"dataframe\">\n",
       "  <thead>\n",
       "    <tr style=\"text-align: right;\">\n",
       "      <th></th>\n",
       "      <th>0</th>\n",
       "      <th>1</th>\n",
       "    </tr>\n",
       "  </thead>\n",
       "  <tbody>\n",
       "    <tr>\n",
       "      <th>0</th>\n",
       "      <td>3</td>\n",
       "      <td>5</td>\n",
       "    </tr>\n",
       "    <tr>\n",
       "      <th>1</th>\n",
       "      <td>1</td>\n",
       "      <td>2</td>\n",
       "    </tr>\n",
       "    <tr>\n",
       "      <th>2</th>\n",
       "      <td>5</td>\n",
       "      <td>6</td>\n",
       "    </tr>\n",
       "  </tbody>\n",
       "</table>\n",
       "</div>"
      ],
      "text/plain": [
       "   0  1\n",
       "0  3  5\n",
       "1  1  2\n",
       "2  5  6"
      ]
     },
     "execution_count": 41,
     "metadata": {},
     "output_type": "execute_result"
    }
   ],
   "source": [
    "#Numpy array convertir a Dataframe\n",
    "arr = np.array([[3,5],[1,2],[5,6]])\n",
    "df = pd.DataFrame(arr)\n",
    "df.head()"
   ]
  },
  {
   "cell_type": "code",
   "execution_count": 42,
   "id": "6a5094bd",
   "metadata": {},
   "outputs": [
    {
     "data": {
      "text/html": [
       "<div>\n",
       "<style scoped>\n",
       "    .dataframe tbody tr th:only-of-type {\n",
       "        vertical-align: middle;\n",
       "    }\n",
       "\n",
       "    .dataframe tbody tr th {\n",
       "        vertical-align: top;\n",
       "    }\n",
       "\n",
       "    .dataframe thead th {\n",
       "        text-align: right;\n",
       "    }\n",
       "</style>\n",
       "<table border=\"1\" class=\"dataframe\">\n",
       "  <thead>\n",
       "    <tr style=\"text-align: right;\">\n",
       "      <th></th>\n",
       "      <th>col1</th>\n",
       "      <th>col2</th>\n",
       "    </tr>\n",
       "  </thead>\n",
       "  <tbody>\n",
       "    <tr>\n",
       "      <th>0</th>\n",
       "      <td>3</td>\n",
       "      <td>5</td>\n",
       "    </tr>\n",
       "    <tr>\n",
       "      <th>1</th>\n",
       "      <td>1</td>\n",
       "      <td>2</td>\n",
       "    </tr>\n",
       "    <tr>\n",
       "      <th>2</th>\n",
       "      <td>5</td>\n",
       "      <td>6</td>\n",
       "    </tr>\n",
       "  </tbody>\n",
       "</table>\n",
       "</div>"
      ],
      "text/plain": [
       "   col1  col2\n",
       "0     3     5\n",
       "1     1     2\n",
       "2     5     6"
      ]
     },
     "execution_count": 42,
     "metadata": {},
     "output_type": "execute_result"
    }
   ],
   "source": [
    "df = pd.DataFrame (arr, columns=['col1','col2'])\n",
    "df.head()"
   ]
  },
  {
   "cell_type": "code",
   "execution_count": 43,
   "id": "6715cfc6",
   "metadata": {},
   "outputs": [
    {
     "data": {
      "text/html": [
       "<div>\n",
       "<style scoped>\n",
       "    .dataframe tbody tr th:only-of-type {\n",
       "        vertical-align: middle;\n",
       "    }\n",
       "\n",
       "    .dataframe tbody tr th {\n",
       "        vertical-align: top;\n",
       "    }\n",
       "\n",
       "    .dataframe thead th {\n",
       "        text-align: right;\n",
       "    }\n",
       "</style>\n",
       "<table border=\"1\" class=\"dataframe\">\n",
       "  <thead>\n",
       "    <tr style=\"text-align: right;\">\n",
       "      <th></th>\n",
       "      <th>beach_name</th>\n",
       "      <th>measurement_timestamp</th>\n",
       "      <th>water_temperature</th>\n",
       "      <th>turbidity</th>\n",
       "      <th>transducer_depth</th>\n",
       "      <th>wave_height</th>\n",
       "      <th>wave_period</th>\n",
       "      <th>battery_life</th>\n",
       "      <th>measurement_timestamp_label</th>\n",
       "      <th>measurement_id</th>\n",
       "    </tr>\n",
       "  </thead>\n",
       "  <tbody>\n",
       "    <tr>\n",
       "      <th>0</th>\n",
       "      <td>Montrose Beach</td>\n",
       "      <td>2013-08-30T08:00:00</td>\n",
       "      <td>20.3</td>\n",
       "      <td>1.18</td>\n",
       "      <td>0.891</td>\n",
       "      <td>0.080</td>\n",
       "      <td>3.0</td>\n",
       "      <td>9.4</td>\n",
       "      <td>2013-08-30T08:00:00</td>\n",
       "      <td>MontroseBeach201308300800</td>\n",
       "    </tr>\n",
       "    <tr>\n",
       "      <th>1</th>\n",
       "      <td>Ohio Street Beach</td>\n",
       "      <td>2016-05-26T13:00:00</td>\n",
       "      <td>14.4</td>\n",
       "      <td>1.23</td>\n",
       "      <td>NaN</td>\n",
       "      <td>0.111</td>\n",
       "      <td>4.0</td>\n",
       "      <td>12.4</td>\n",
       "      <td>2016-05-26T13:00:00</td>\n",
       "      <td>OhioStreetBeach201605261300</td>\n",
       "    </tr>\n",
       "    <tr>\n",
       "      <th>2</th>\n",
       "      <td>Calumet Beach</td>\n",
       "      <td>2013-09-03T16:00:00</td>\n",
       "      <td>23.2</td>\n",
       "      <td>3.63</td>\n",
       "      <td>1.201</td>\n",
       "      <td>0.174</td>\n",
       "      <td>6.0</td>\n",
       "      <td>9.4</td>\n",
       "      <td>2013-09-03T16:00:00</td>\n",
       "      <td>CalumetBeach201309031600</td>\n",
       "    </tr>\n",
       "    <tr>\n",
       "      <th>3</th>\n",
       "      <td>Calumet Beach</td>\n",
       "      <td>2014-05-28T12:00:00</td>\n",
       "      <td>16.2</td>\n",
       "      <td>1.26</td>\n",
       "      <td>1.514</td>\n",
       "      <td>0.147</td>\n",
       "      <td>4.0</td>\n",
       "      <td>11.7</td>\n",
       "      <td>2014-05-28T12:00:00</td>\n",
       "      <td>CalumetBeach201405281200</td>\n",
       "    </tr>\n",
       "    <tr>\n",
       "      <th>4</th>\n",
       "      <td>Montrose Beach</td>\n",
       "      <td>2014-05-28T12:00:00</td>\n",
       "      <td>14.4</td>\n",
       "      <td>3.36</td>\n",
       "      <td>1.388</td>\n",
       "      <td>0.298</td>\n",
       "      <td>4.0</td>\n",
       "      <td>11.9</td>\n",
       "      <td>2014-05-28T12:00:00</td>\n",
       "      <td>MontroseBeach201405281200</td>\n",
       "    </tr>\n",
       "  </tbody>\n",
       "</table>\n",
       "</div>"
      ],
      "text/plain": [
       "          beach_name measurement_timestamp  water_temperature  turbidity  \\\n",
       "0     Montrose Beach   2013-08-30T08:00:00               20.3       1.18   \n",
       "1  Ohio Street Beach   2016-05-26T13:00:00               14.4       1.23   \n",
       "2      Calumet Beach   2013-09-03T16:00:00               23.2       3.63   \n",
       "3      Calumet Beach   2014-05-28T12:00:00               16.2       1.26   \n",
       "4     Montrose Beach   2014-05-28T12:00:00               14.4       3.36   \n",
       "\n",
       "   transducer_depth  wave_height  wave_period  battery_life  \\\n",
       "0             0.891        0.080          3.0           9.4   \n",
       "1               NaN        0.111          4.0          12.4   \n",
       "2             1.201        0.174          6.0           9.4   \n",
       "3             1.514        0.147          4.0          11.7   \n",
       "4             1.388        0.298          4.0          11.9   \n",
       "\n",
       "  measurement_timestamp_label               measurement_id  \n",
       "0         2013-08-30T08:00:00    MontroseBeach201308300800  \n",
       "1         2016-05-26T13:00:00  OhioStreetBeach201605261300  \n",
       "2         2013-09-03T16:00:00     CalumetBeach201309031600  \n",
       "3         2014-05-28T12:00:00     CalumetBeach201405281200  \n",
       "4         2014-05-28T12:00:00    MontroseBeach201405281200  "
      ]
     },
     "execution_count": 43,
     "metadata": {},
     "output_type": "execute_result"
    }
   ],
   "source": [
    "data = pd.read_csv('beach_water_quality_automated_sensors_1.csv')\n",
    "data.head()"
   ]
  },
  {
   "cell_type": "code",
   "execution_count": 45,
   "id": "ab560fb7",
   "metadata": {},
   "outputs": [
    {
     "data": {
      "text/plain": [
       "beach_name                     34923\n",
       "measurement_timestamp          34917\n",
       "water_temperature              34917\n",
       "turbidity                      34917\n",
       "transducer_depth               10034\n",
       "wave_height                    34690\n",
       "wave_period                    34690\n",
       "battery_life                   34917\n",
       "measurement_timestamp_label    34917\n",
       "measurement_id                 34923\n",
       "dtype: int64"
      ]
     },
     "execution_count": 45,
     "metadata": {},
     "output_type": "execute_result"
    }
   ],
   "source": [
    "data.count()\n"
   ]
  },
  {
   "cell_type": "code",
   "execution_count": null,
   "id": "df2dc97e",
   "metadata": {},
   "outputs": [],
   "source": []
  }
 ],
 "metadata": {
  "kernelspec": {
   "display_name": "entornomp1",
   "language": "python",
   "name": "entornomp1"
  },
  "language_info": {
   "codemirror_mode": {
    "name": "ipython",
    "version": 3
   },
   "file_extension": ".py",
   "mimetype": "text/x-python",
   "name": "python",
   "nbconvert_exporter": "python",
   "pygments_lexer": "ipython3",
   "version": "3.7.10"
  }
 },
 "nbformat": 4,
 "nbformat_minor": 5
}
