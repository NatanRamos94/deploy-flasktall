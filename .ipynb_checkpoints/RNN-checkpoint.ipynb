{
 "cells": [
  {
   "cell_type": "code",
   "execution_count": 1,
   "id": "dc2111ba",
   "metadata": {},
   "outputs": [],
   "source": [
    "import tensorflow as tf\n",
    "import pandas as pd\n",
    "import numpy as np\n",
    "import sklearn\n",
    "import matplotlib.pyplot as plt\n",
    "import scipy\n",
    "import seaborn as sns"
   ]
  },
  {
   "cell_type": "code",
   "execution_count": 2,
   "id": "9e38a7ba",
   "metadata": {},
   "outputs": [
    {
     "data": {
      "text/html": [
       "<div>\n",
       "<style scoped>\n",
       "    .dataframe tbody tr th:only-of-type {\n",
       "        vertical-align: middle;\n",
       "    }\n",
       "\n",
       "    .dataframe tbody tr th {\n",
       "        vertical-align: top;\n",
       "    }\n",
       "\n",
       "    .dataframe thead th {\n",
       "        text-align: right;\n",
       "    }\n",
       "</style>\n",
       "<table border=\"1\" class=\"dataframe\">\n",
       "  <thead>\n",
       "    <tr style=\"text-align: right;\">\n",
       "      <th></th>\n",
       "      <th>date</th>\n",
       "      <th>meantemp</th>\n",
       "      <th>humidity</th>\n",
       "      <th>wind_speed</th>\n",
       "      <th>meanpressure</th>\n",
       "    </tr>\n",
       "  </thead>\n",
       "  <tbody>\n",
       "    <tr>\n",
       "      <th>0</th>\n",
       "      <td>2017-01-01</td>\n",
       "      <td>15.913043</td>\n",
       "      <td>85.869565</td>\n",
       "      <td>2.743478</td>\n",
       "      <td>59.000000</td>\n",
       "    </tr>\n",
       "    <tr>\n",
       "      <th>1</th>\n",
       "      <td>2017-01-02</td>\n",
       "      <td>18.500000</td>\n",
       "      <td>77.222222</td>\n",
       "      <td>2.894444</td>\n",
       "      <td>1018.277778</td>\n",
       "    </tr>\n",
       "    <tr>\n",
       "      <th>2</th>\n",
       "      <td>2017-01-03</td>\n",
       "      <td>17.111111</td>\n",
       "      <td>81.888889</td>\n",
       "      <td>4.016667</td>\n",
       "      <td>1018.333333</td>\n",
       "    </tr>\n",
       "    <tr>\n",
       "      <th>3</th>\n",
       "      <td>2017-01-04</td>\n",
       "      <td>18.700000</td>\n",
       "      <td>70.050000</td>\n",
       "      <td>4.545000</td>\n",
       "      <td>1015.700000</td>\n",
       "    </tr>\n",
       "    <tr>\n",
       "      <th>4</th>\n",
       "      <td>2017-01-05</td>\n",
       "      <td>18.388889</td>\n",
       "      <td>74.944444</td>\n",
       "      <td>3.300000</td>\n",
       "      <td>1014.333333</td>\n",
       "    </tr>\n",
       "  </tbody>\n",
       "</table>\n",
       "</div>"
      ],
      "text/plain": [
       "         date   meantemp   humidity  wind_speed  meanpressure\n",
       "0  2017-01-01  15.913043  85.869565    2.743478     59.000000\n",
       "1  2017-01-02  18.500000  77.222222    2.894444   1018.277778\n",
       "2  2017-01-03  17.111111  81.888889    4.016667   1018.333333\n",
       "3  2017-01-04  18.700000  70.050000    4.545000   1015.700000\n",
       "4  2017-01-05  18.388889  74.944444    3.300000   1014.333333"
      ]
     },
     "execution_count": 2,
     "metadata": {},
     "output_type": "execute_result"
    }
   ],
   "source": [
    "datatrain = pd.read_csv('DailyDelhiClimateTrain.csv')\n",
    "datatest = pd.read_csv('DailyDelhiClimateTest.csv')\n",
    "datatest.head()\n",
    "#datatrain.head()"
   ]
  },
  {
   "cell_type": "code",
   "execution_count": 3,
   "id": "4ab1616e",
   "metadata": {},
   "outputs": [],
   "source": [
    "datatrain['date'] = pd.to_datetime(datatrain['date'], format = '%Y-%m-%d')\n",
    "datatest['date'] = pd.to_datetime(datatest['date'], format = '%Y-%m-%d')\n",
    "\n",
    "#datatrain.head()"
   ]
  },
  {
   "cell_type": "code",
   "execution_count": 4,
   "id": "b88d4be3",
   "metadata": {},
   "outputs": [
    {
     "data": {
      "text/html": [
       "<div>\n",
       "<style scoped>\n",
       "    .dataframe tbody tr th:only-of-type {\n",
       "        vertical-align: middle;\n",
       "    }\n",
       "\n",
       "    .dataframe tbody tr th {\n",
       "        vertical-align: top;\n",
       "    }\n",
       "\n",
       "    .dataframe thead th {\n",
       "        text-align: right;\n",
       "    }\n",
       "</style>\n",
       "<table border=\"1\" class=\"dataframe\">\n",
       "  <thead>\n",
       "    <tr style=\"text-align: right;\">\n",
       "      <th></th>\n",
       "      <th>date</th>\n",
       "      <th>meantemp</th>\n",
       "      <th>humidity</th>\n",
       "      <th>wind_speed</th>\n",
       "      <th>meanpressure</th>\n",
       "    </tr>\n",
       "  </thead>\n",
       "  <tbody>\n",
       "    <tr>\n",
       "      <th>0</th>\n",
       "      <td>2017-01-01</td>\n",
       "      <td>15.913043</td>\n",
       "      <td>85.869565</td>\n",
       "      <td>2.743478</td>\n",
       "      <td>59.000000</td>\n",
       "    </tr>\n",
       "    <tr>\n",
       "      <th>1</th>\n",
       "      <td>2017-01-02</td>\n",
       "      <td>18.500000</td>\n",
       "      <td>77.222222</td>\n",
       "      <td>2.894444</td>\n",
       "      <td>1018.277778</td>\n",
       "    </tr>\n",
       "    <tr>\n",
       "      <th>2</th>\n",
       "      <td>2017-01-03</td>\n",
       "      <td>17.111111</td>\n",
       "      <td>81.888889</td>\n",
       "      <td>4.016667</td>\n",
       "      <td>1018.333333</td>\n",
       "    </tr>\n",
       "    <tr>\n",
       "      <th>3</th>\n",
       "      <td>2017-01-04</td>\n",
       "      <td>18.700000</td>\n",
       "      <td>70.050000</td>\n",
       "      <td>4.545000</td>\n",
       "      <td>1015.700000</td>\n",
       "    </tr>\n",
       "    <tr>\n",
       "      <th>4</th>\n",
       "      <td>2017-01-05</td>\n",
       "      <td>18.388889</td>\n",
       "      <td>74.944444</td>\n",
       "      <td>3.300000</td>\n",
       "      <td>1014.333333</td>\n",
       "    </tr>\n",
       "  </tbody>\n",
       "</table>\n",
       "</div>"
      ],
      "text/plain": [
       "        date   meantemp   humidity  wind_speed  meanpressure\n",
       "0 2017-01-01  15.913043  85.869565    2.743478     59.000000\n",
       "1 2017-01-02  18.500000  77.222222    2.894444   1018.277778\n",
       "2 2017-01-03  17.111111  81.888889    4.016667   1018.333333\n",
       "3 2017-01-04  18.700000  70.050000    4.545000   1015.700000\n",
       "4 2017-01-05  18.388889  74.944444    3.300000   1014.333333"
      ]
     },
     "execution_count": 4,
     "metadata": {},
     "output_type": "execute_result"
    }
   ],
   "source": [
    "datatest.head()"
   ]
  },
  {
   "cell_type": "code",
   "execution_count": 5,
   "id": "fdf5c669",
   "metadata": {},
   "outputs": [
    {
     "data": {
      "text/html": [
       "<div>\n",
       "<style scoped>\n",
       "    .dataframe tbody tr th:only-of-type {\n",
       "        vertical-align: middle;\n",
       "    }\n",
       "\n",
       "    .dataframe tbody tr th {\n",
       "        vertical-align: top;\n",
       "    }\n",
       "\n",
       "    .dataframe thead th {\n",
       "        text-align: right;\n",
       "    }\n",
       "</style>\n",
       "<table border=\"1\" class=\"dataframe\">\n",
       "  <thead>\n",
       "    <tr style=\"text-align: right;\">\n",
       "      <th></th>\n",
       "      <th>meantemp</th>\n",
       "      <th>humidity</th>\n",
       "      <th>wind_speed</th>\n",
       "      <th>meanpressure</th>\n",
       "    </tr>\n",
       "  </thead>\n",
       "  <tbody>\n",
       "    <tr>\n",
       "      <th>count</th>\n",
       "      <td>1462.000000</td>\n",
       "      <td>1462.000000</td>\n",
       "      <td>1462.000000</td>\n",
       "      <td>1462.000000</td>\n",
       "    </tr>\n",
       "    <tr>\n",
       "      <th>mean</th>\n",
       "      <td>25.495521</td>\n",
       "      <td>60.771702</td>\n",
       "      <td>6.802209</td>\n",
       "      <td>1011.104548</td>\n",
       "    </tr>\n",
       "    <tr>\n",
       "      <th>std</th>\n",
       "      <td>7.348103</td>\n",
       "      <td>16.769652</td>\n",
       "      <td>4.561602</td>\n",
       "      <td>180.231668</td>\n",
       "    </tr>\n",
       "    <tr>\n",
       "      <th>min</th>\n",
       "      <td>6.000000</td>\n",
       "      <td>13.428571</td>\n",
       "      <td>0.000000</td>\n",
       "      <td>-3.041667</td>\n",
       "    </tr>\n",
       "    <tr>\n",
       "      <th>25%</th>\n",
       "      <td>18.857143</td>\n",
       "      <td>50.375000</td>\n",
       "      <td>3.475000</td>\n",
       "      <td>1001.580357</td>\n",
       "    </tr>\n",
       "    <tr>\n",
       "      <th>50%</th>\n",
       "      <td>27.714286</td>\n",
       "      <td>62.625000</td>\n",
       "      <td>6.221667</td>\n",
       "      <td>1008.563492</td>\n",
       "    </tr>\n",
       "    <tr>\n",
       "      <th>75%</th>\n",
       "      <td>31.305804</td>\n",
       "      <td>72.218750</td>\n",
       "      <td>9.238235</td>\n",
       "      <td>1014.944901</td>\n",
       "    </tr>\n",
       "    <tr>\n",
       "      <th>max</th>\n",
       "      <td>38.714286</td>\n",
       "      <td>100.000000</td>\n",
       "      <td>42.220000</td>\n",
       "      <td>7679.333333</td>\n",
       "    </tr>\n",
       "  </tbody>\n",
       "</table>\n",
       "</div>"
      ],
      "text/plain": [
       "          meantemp     humidity   wind_speed  meanpressure\n",
       "count  1462.000000  1462.000000  1462.000000   1462.000000\n",
       "mean     25.495521    60.771702     6.802209   1011.104548\n",
       "std       7.348103    16.769652     4.561602    180.231668\n",
       "min       6.000000    13.428571     0.000000     -3.041667\n",
       "25%      18.857143    50.375000     3.475000   1001.580357\n",
       "50%      27.714286    62.625000     6.221667   1008.563492\n",
       "75%      31.305804    72.218750     9.238235   1014.944901\n",
       "max      38.714286   100.000000    42.220000   7679.333333"
      ]
     },
     "execution_count": 5,
     "metadata": {},
     "output_type": "execute_result"
    }
   ],
   "source": [
    "datatrain.describe()"
   ]
  },
  {
   "cell_type": "code",
   "execution_count": 6,
   "id": "2ce2baf1",
   "metadata": {},
   "outputs": [],
   "source": [
    "datatrain.set_index('date',inplace = True)\n",
    "datatest.set_index('date',inplace = True)"
   ]
  },
  {
   "cell_type": "code",
   "execution_count": 7,
   "id": "833cdfbf",
   "metadata": {},
   "outputs": [
    {
     "data": {
      "text/html": [
       "<div>\n",
       "<style scoped>\n",
       "    .dataframe tbody tr th:only-of-type {\n",
       "        vertical-align: middle;\n",
       "    }\n",
       "\n",
       "    .dataframe tbody tr th {\n",
       "        vertical-align: top;\n",
       "    }\n",
       "\n",
       "    .dataframe thead th {\n",
       "        text-align: right;\n",
       "    }\n",
       "</style>\n",
       "<table border=\"1\" class=\"dataframe\">\n",
       "  <thead>\n",
       "    <tr style=\"text-align: right;\">\n",
       "      <th></th>\n",
       "      <th>meantemp</th>\n",
       "      <th>humidity</th>\n",
       "      <th>wind_speed</th>\n",
       "      <th>meanpressure</th>\n",
       "    </tr>\n",
       "    <tr>\n",
       "      <th>date</th>\n",
       "      <th></th>\n",
       "      <th></th>\n",
       "      <th></th>\n",
       "      <th></th>\n",
       "    </tr>\n",
       "  </thead>\n",
       "  <tbody>\n",
       "    <tr>\n",
       "      <th>2017-01-01</th>\n",
       "      <td>15.913043</td>\n",
       "      <td>85.869565</td>\n",
       "      <td>2.743478</td>\n",
       "      <td>59.000000</td>\n",
       "    </tr>\n",
       "    <tr>\n",
       "      <th>2017-01-02</th>\n",
       "      <td>18.500000</td>\n",
       "      <td>77.222222</td>\n",
       "      <td>2.894444</td>\n",
       "      <td>1018.277778</td>\n",
       "    </tr>\n",
       "    <tr>\n",
       "      <th>2017-01-03</th>\n",
       "      <td>17.111111</td>\n",
       "      <td>81.888889</td>\n",
       "      <td>4.016667</td>\n",
       "      <td>1018.333333</td>\n",
       "    </tr>\n",
       "    <tr>\n",
       "      <th>2017-01-04</th>\n",
       "      <td>18.700000</td>\n",
       "      <td>70.050000</td>\n",
       "      <td>4.545000</td>\n",
       "      <td>1015.700000</td>\n",
       "    </tr>\n",
       "    <tr>\n",
       "      <th>2017-01-05</th>\n",
       "      <td>18.388889</td>\n",
       "      <td>74.944444</td>\n",
       "      <td>3.300000</td>\n",
       "      <td>1014.333333</td>\n",
       "    </tr>\n",
       "  </tbody>\n",
       "</table>\n",
       "</div>"
      ],
      "text/plain": [
       "             meantemp   humidity  wind_speed  meanpressure\n",
       "date                                                      \n",
       "2017-01-01  15.913043  85.869565    2.743478     59.000000\n",
       "2017-01-02  18.500000  77.222222    2.894444   1018.277778\n",
       "2017-01-03  17.111111  81.888889    4.016667   1018.333333\n",
       "2017-01-04  18.700000  70.050000    4.545000   1015.700000\n",
       "2017-01-05  18.388889  74.944444    3.300000   1014.333333"
      ]
     },
     "execution_count": 7,
     "metadata": {},
     "output_type": "execute_result"
    }
   ],
   "source": [
    "#datatrain.head()\n",
    "datatest.head()"
   ]
  },
  {
   "cell_type": "code",
   "execution_count": 8,
   "id": "8ec28964",
   "metadata": {},
   "outputs": [
    {
     "data": {
      "text/plain": [
       "<AxesSubplot:xlabel='date'>"
      ]
     },
     "execution_count": 8,
     "metadata": {},
     "output_type": "execute_result"
    },
    {
     "data": {
      "image/png": "[encoded data removed]",
      "text/plain": [
       "<Figure size 432x288 with 1 Axes>"
      ]
     },
     "metadata": {
      "needs_background": "light"
     },
     "output_type": "display_data"
    }
   ],
   "source": [
    "#filtro de media,quedan datos vacios al correr la ventana,eliminamos datos vacios \n",
    "datatrain = datatrain.rolling(10).mean().dropna()\n",
    "datatest = datatest.rolling(10).mean().dropna()\n",
    "datatest.meantemp.plot(style ='-')\n",
    "#datatrain.meantemp.plot(style ='-')"
   ]
  },
  {
   "cell_type": "code",
   "execution_count": 9,
   "id": "0c66f0fe",
   "metadata": {},
   "outputs": [],
   "source": [
    "datatrain = datatrain.drop(labels = ['humidity','wind_speed','meanpressure'],axis=1)\n",
    "datatest = datatest.drop(labels = ['humidity','wind_speed','meanpressure'],axis=1)\n"
   ]
  },
  {
   "cell_type": "code",
   "execution_count": 10,
   "id": "6d22a9b4",
   "metadata": {},
   "outputs": [
    {
     "data": {
      "text/html": [
       "<div>\n",
       "<style scoped>\n",
       "    .dataframe tbody tr th:only-of-type {\n",
       "        vertical-align: middle;\n",
       "    }\n",
       "\n",
       "    .dataframe tbody tr th {\n",
       "        vertical-align: top;\n",
       "    }\n",
       "\n",
       "    .dataframe thead th {\n",
       "        text-align: right;\n",
       "    }\n",
       "</style>\n",
       "<table border=\"1\" class=\"dataframe\">\n",
       "  <thead>\n",
       "    <tr style=\"text-align: right;\">\n",
       "      <th></th>\n",
       "      <th>meantemp</th>\n",
       "    </tr>\n",
       "    <tr>\n",
       "      <th>date</th>\n",
       "      <th></th>\n",
       "    </tr>\n",
       "  </thead>\n",
       "  <tbody>\n",
       "    <tr>\n",
       "      <th>2017-01-10</th>\n",
       "      <td>16.500631</td>\n",
       "    </tr>\n",
       "    <tr>\n",
       "      <th>2017-01-11</th>\n",
       "      <td>16.009327</td>\n",
       "    </tr>\n",
       "    <tr>\n",
       "      <th>2017-01-12</th>\n",
       "      <td>15.338274</td>\n",
       "    </tr>\n",
       "    <tr>\n",
       "      <th>2017-01-13</th>\n",
       "      <td>14.950692</td>\n",
       "    </tr>\n",
       "    <tr>\n",
       "      <th>2017-01-14</th>\n",
       "      <td>14.400692</td>\n",
       "    </tr>\n",
       "  </tbody>\n",
       "</table>\n",
       "</div>"
      ],
      "text/plain": [
       "             meantemp\n",
       "date                 \n",
       "2017-01-10  16.500631\n",
       "2017-01-11  16.009327\n",
       "2017-01-12  15.338274\n",
       "2017-01-13  14.950692\n",
       "2017-01-14  14.400692"
      ]
     },
     "execution_count": 10,
     "metadata": {},
     "output_type": "execute_result"
    }
   ],
   "source": [
    "#datatrain.head()\n",
    "datatest.head()"
   ]
  },
  {
   "cell_type": "code",
   "execution_count": 11,
   "id": "12b9e6fd",
   "metadata": {},
   "outputs": [
    {
     "data": {
      "text/plain": [
       "array([[-0.66251337],\n",
       "       [-0.71238014],\n",
       "       [-0.78049113],\n",
       "       [-0.81983018],\n",
       "       [-0.87565448],\n",
       "       [-0.89548841],\n",
       "       [-0.94286987],\n",
       "       [-0.97317852],\n",
       "       [-1.        ],\n",
       "       [-0.99951667],\n",
       "       [-0.9675238 ],\n",
       "       [-0.92295262],\n",
       "       [-0.85545062],\n",
       "       [-0.80589536],\n",
       "       [-0.75364557],\n",
       "       [-0.7073092 ],\n",
       "       [-0.69179439],\n",
       "       [-0.64330055],\n",
       "       [-0.62480779],\n",
       "       [-0.61417459],\n",
       "       [-0.60218468],\n",
       "       [-0.59473776],\n",
       "       [-0.62711586],\n",
       "       [-0.63753712],\n",
       "       [-0.66505812],\n",
       "       [-0.68840283],\n",
       "       [-0.66350511],\n",
       "       [-0.65955794],\n",
       "       [-0.65690513],\n",
       "       [-0.6565668 ],\n",
       "       [-0.66742153],\n",
       "       [-0.68222343],\n",
       "       [-0.67841722],\n",
       "       [-0.68695234],\n",
       "       [-0.67987819],\n",
       "       [-0.69840171],\n",
       "       [-0.7091621 ],\n",
       "       [-0.67504725],\n",
       "       [-0.61237178],\n",
       "       [-0.55730872],\n",
       "       [-0.48637495],\n",
       "       [-0.39798647],\n",
       "       [-0.33497268],\n",
       "       [-0.30579179],\n",
       "       [-0.28253167],\n",
       "       [-0.25969445],\n",
       "       [-0.24519463],\n",
       "       [-0.26041944],\n",
       "       [-0.27488301],\n",
       "       [-0.25246871],\n",
       "       [-0.23117527],\n",
       "       [-0.22736907],\n",
       "       [-0.24090223],\n",
       "       [-0.24090223],\n",
       "       [-0.22948362],\n",
       "       [-0.22060248],\n",
       "       [-0.18380919],\n",
       "       [-0.15543568],\n",
       "       [-0.14619205],\n",
       "       [-0.18065933],\n",
       "       [-0.24082986],\n",
       "       [-0.3055353 ],\n",
       "       [-0.3365488 ],\n",
       "       [-0.34796741],\n",
       "       [-0.34669867],\n",
       "       [-0.30609918],\n",
       "       [-0.32360771],\n",
       "       [-0.29166755],\n",
       "       [-0.25227638],\n",
       "       [-0.2178091 ],\n",
       "       [-0.15217325],\n",
       "       [-0.05194326],\n",
       "       [ 0.05519429],\n",
       "       [ 0.16599707],\n",
       "       [ 0.23323998],\n",
       "       [ 0.28500434],\n",
       "       [ 0.37229324],\n",
       "       [ 0.42503788],\n",
       "       [ 0.48932041],\n",
       "       [ 0.54973632],\n",
       "       [ 0.60682936],\n",
       "       [ 0.64869759],\n",
       "       [ 0.66645986],\n",
       "       [ 0.6825305 ],\n",
       "       [ 0.72752827],\n",
       "       [ 0.72885556],\n",
       "       [ 0.7463359 ],\n",
       "       [ 0.71701404],\n",
       "       [ 0.66245847],\n",
       "       [ 0.6405275 ],\n",
       "       [ 0.6124341 ],\n",
       "       [ 0.59086562],\n",
       "       [ 0.58579068],\n",
       "       [ 0.57733245],\n",
       "       [ 0.57293418],\n",
       "       [ 0.59314717],\n",
       "       [ 0.59089164],\n",
       "       [ 0.64727983],\n",
       "       [ 0.73228501],\n",
       "       [ 0.79699046],\n",
       "       [ 0.86441461],\n",
       "       [ 0.91516398],\n",
       "       [ 0.95221101],\n",
       "       [ 0.98477519],\n",
       "       [ 1.        ]])"
      ]
     },
     "execution_count": 11,
     "metadata": {},
     "output_type": "execute_result"
    }
   ],
   "source": [
    "from sklearn.preprocessing import MinMaxScaler\n",
    "scalar = MinMaxScaler(feature_range=(-1 , 1))\n",
    "datatrain_arr = scalar.fit_transform(datatrain)\n",
    "datatest_arr = scalar.fit_transform(datatest)\n",
    "datatest_arr\n",
    "#datatrain_arr\n"
   ]
  },
  {
   "cell_type": "code",
   "execution_count": 12,
   "id": "f35e38de",
   "metadata": {},
   "outputs": [],
   "source": [
    "steps = 20\n",
    "xtrain =[]\n",
    "ytrain = []\n",
    "for i in range(len(datatrain_arr)-steps):\n",
    "    xtrain.append(datatrain_arr[i:i+steps])\n",
    "    ytrain.append(datatrain_arr[i+steps])\n",
    "    \n",
    "xtest =[]\n",
    "ytest = []\n",
    "for i in range(len(datatest_arr)-steps):\n",
    "    xtest.append(datatest_arr[i:i+steps])\n",
    "    ytest.append(datatest_arr[i+steps])    "
   ]
  },
  {
   "cell_type": "code",
   "execution_count": 13,
   "id": "8910e926",
   "metadata": {},
   "outputs": [],
   "source": [
    "xtrain = np.asanyarray(xtrain) #cambiar a numpy arra\n",
    "ytrain = np.asanyarray(ytrain)\n",
    "\n",
    "xtest = np.asanyarray(xtest)\n",
    "ytest = np.asanyarray(ytest)"
   ]
  },
  {
   "cell_type": "code",
   "execution_count": 14,
   "id": "e3d07ede",
   "metadata": {},
   "outputs": [
    {
     "name": "stdout",
     "output_type": "stream",
     "text": [
      "Xtrain:(1433, 20, 1) Ytrain :(1433, 1) Xtest:(85, 20, 1) Ytest :(85, 1)\n"
     ]
    }
   ],
   "source": [
    "print('Xtrain:{} Ytrain :{} Xtest:{} Ytest :{}'.format(xtrain.shape,ytrain.shape,xtest.shape,ytest.shape))"
   ]
  },
  {
   "cell_type": "code",
   "execution_count": 15,
   "id": "2052044f",
   "metadata": {},
   "outputs": [
    {
     "name": "stdout",
     "output_type": "stream",
     "text": [
      "Model: \"sequential\"\n",
      "_________________________________________________________________\n",
      "Layer (type)                 Output Shape              Param #   \n",
      "=================================================================\n",
      "lstm (LSTM)                  (None, 20, 256)           264192    \n",
      "_________________________________________________________________\n",
      "dropout (Dropout)            (None, 20, 256)           0         \n",
      "_________________________________________________________________\n",
      "lstm_1 (LSTM)                (None, 20, 128)           197120    \n",
      "_________________________________________________________________\n",
      "dropout_1 (Dropout)          (None, 20, 128)           0         \n",
      "_________________________________________________________________\n",
      "lstm_2 (LSTM)                (None, 20, 64)            49408     \n",
      "_________________________________________________________________\n",
      "dropout_2 (Dropout)          (None, 20, 64)            0         \n",
      "_________________________________________________________________\n",
      "lstm_3 (LSTM)                (None, 32)                12416     \n",
      "_________________________________________________________________\n",
      "dropout_3 (Dropout)          (None, 32)                0         \n",
      "_________________________________________________________________\n",
      "dense (Dense)                (None, 128)               4224      \n",
      "_________________________________________________________________\n",
      "dense_1 (Dense)              (None, 64)                8256      \n",
      "_________________________________________________________________\n",
      "dense_2 (Dense)              (None, 1)                 65        \n",
      "=================================================================\n",
      "Total params: 535,681\n",
      "Trainable params: 535,681\n",
      "Non-trainable params: 0\n",
      "_________________________________________________________________\n"
     ]
    }
   ],
   "source": [
    "from tensorflow.keras.layers import LSTM, Dropout ,Dense\n",
    "from tensorflow.keras.models import Sequential\n",
    "\n",
    "model = Sequential()\n",
    "model.add(LSTM(units = 256 , return_sequences = True , activation = 'relu', input_shape=(steps,1)))\n",
    "model.add(Dropout(0.2))\n",
    "model.add(LSTM(units = 128 , return_sequences = True , activation = 'relu'))\n",
    "model.add(Dropout(0.2))\n",
    "model.add(LSTM(units = 64 , return_sequences = True , activation = 'relu'))          \n",
    "model.add(Dropout(0.2))\n",
    "model.add(LSTM(units = 32 , return_sequences = False , activation = 'relu'))\n",
    "model.add(Dropout(0.2))\n",
    "model.add(Dense(128))\n",
    "model.add(Dense(64))\n",
    "model.add(Dense(ytrain.shape[1])) \n",
    "model.summary()"
   ]
  },
  {
   "cell_type": "code",
   "execution_count": 16,
   "id": "429f7b62",
   "metadata": {},
   "outputs": [],
   "source": [
    "model.compile(loss = 'mse',optimizer = 'adam')"
   ]
  },
  {
   "cell_type": "code",
   "execution_count": null,
   "id": "602925bd",
   "metadata": {},
   "outputs": [],
   "source": [
    "history = model.fit(xtrain, ytrain, epochs = 100, validation_split= 0.1, batch_size = 32 , verbose = 1)"
   ]
  },
  {
   "cell_type": "code",
   "execution_count": null,
   "id": "751268e6",
   "metadata": {},
   "outputs": [],
   "source": [
    "history.history['loss'] #val_loss"
   ]
  },
  {
   "cell_type": "code",
   "execution_count": null,
   "id": "8fb123d5",
   "metadata": {},
   "outputs": [],
   "source": [
    "plt.plot(history.history['loss'])# curvas\n",
    "plt.plot(history.history['val_loss'])\n",
    "plt.legend(['loss','val_loss'])\n",
    "plt.show()#"
   ]
  },
  {
   "cell_type": "code",
   "execution_count": null,
   "id": "538431ae",
   "metadata": {},
   "outputs": [],
   "source": [
    "model.save('forecasting.h5')# guardar modelo"
   ]
  },
  {
   "cell_type": "code",
   "execution_count": 17,
   "id": "2d31e90d",
   "metadata": {},
   "outputs": [],
   "source": [
    "from tensorflow.keras.models import load_model # cargar modelo\n",
    "model = load_model('forecasting.h5')"
   ]
  },
  {
   "cell_type": "code",
   "execution_count": 18,
   "id": "dc98ad54",
   "metadata": {},
   "outputs": [
    {
     "name": "stdout",
     "output_type": "stream",
     "text": [
      "WARNING:tensorflow:Model was constructed with shape (None, 25, 1) for input KerasTensor(type_spec=TensorSpec(shape=(None, 25, 1), dtype=tf.float32, name='lstm_5_input'), name='lstm_5_input', description=\"created by layer 'lstm_5_input'\"), but it was called on an input with incompatible shape (None, 20, 1).\n"
     ]
    }
   ],
   "source": [
    "#hacemos prediccion que valores de y nos muestra nos devuelve los valores predichos por el modelo, inversa para poner los valores en temp\n",
    "ypred = model.predict(xtest)\n",
    "ypred = scalar.inverse_transform(ypred)\n",
    "ytest = scalar.inverse_transform(ytest)"
   ]
  },
  {
   "cell_type": "code",
   "execution_count": 26,
   "id": "4dcd842b",
   "metadata": {},
   "outputs": [
    {
     "data": {
      "image/png": "[encoded data removed]",
      "text/plain": [
       "<Figure size 432x288 with 1 Axes>"
      ]
     },
     "metadata": {
      "needs_background": "light"
     },
     "output_type": "display_data"
    },
    {
     "data": {
      "text/plain": [
       "[<matplotlib.lines.Line2D at 0x15863801508>]"
      ]
     },
     "execution_count": 26,
     "metadata": {},
     "output_type": "execute_result"
    },
    {
     "data": {
      "image/png": "[encoded data removed]",
      "text/plain": [
       "<Figure size 432x288 with 1 Axes>"
      ]
     },
     "metadata": {
      "needs_background": "light"
     },
     "output_type": "display_data"
    }
   ],
   "source": [
    "plt.plot(datatest.index[:-steps], ypred,'r')\n",
    "plt.plot(datatest.index[:-steps], ytest,'b')# valores esperados\n",
    "plt.legend(['TRAIN','PRED','ESPER'])\n",
    "plt.show()\n",
    "plt.plot(datatrain.index[:-steps],scalar.inverse_transform(ytrain),'g')"
   ]
  },
  {
   "cell_type": "code",
   "execution_count": 20,
   "id": "7aa9ffa5",
   "metadata": {},
   "outputs": [
    {
     "data": {
      "text/plain": [
       "28.71852866216849"
      ]
     },
     "execution_count": 20,
     "metadata": {},
     "output_type": "execute_result"
    }
   ],
   "source": [
    "from sklearn.metrics import mean_squared_error #valor del error cuadratico medio entre todos los datos de prueba y prediccion\n",
    "mean_squared_error(ytest, ypred)"
   ]
  },
  {
   "cell_type": "code",
   "execution_count": 21,
   "id": "e6440dda",
   "metadata": {},
   "outputs": [
    {
     "data": {
      "text/plain": [
       "(85, 20, 1)"
      ]
     },
     "execution_count": 21,
     "metadata": {},
     "output_type": "execute_result"
    }
   ],
   "source": [
    "xtest.shape #dimensiones del modelo"
   ]
  },
  {
   "cell_type": "code",
   "execution_count": 27,
   "id": "bdc5384d",
   "metadata": {},
   "outputs": [],
   "source": [
    "#crear una muestra que tenga este shape,datos de sensor,recolectar 20 datos sucesivos y luego pasarlos al modelo,valoracion del desempeño\n",
    "xin = np.array([5.40770425, 6.11057864, 6.48376578, 6.72562852, 6.79872852,6.831772  , 7.00159018, 6.80131241, 7.20922907, 7.58875288, 7.77527335, 8.16761634, 8.09178477, 8.12354947, 7.93507991, 8.44763643, 8.25642214, 8.88836659, 9.25454083, 9.25017575, 8.55976639, 7.65270118, 7.57590118, 7.20333433, 7.04965844,])\n",
    "xin = scalar.fit_transform(xin.reshape(-1,1)) #el modelo recibe valores entre -1 y 1 por eso inversa\n",
    "xin = xin.reshape(1,25,1)"
   ]
  },
  {
   "cell_type": "code",
   "execution_count": 28,
   "id": "9622b5fe",
   "metadata": {},
   "outputs": [
    {
     "data": {
      "text/plain": [
       "(1, 25, 1)"
      ]
     },
     "execution_count": 28,
     "metadata": {},
     "output_type": "execute_result"
    }
   ],
   "source": [
    "xin.shape"
   ]
  },
  {
   "cell_type": "code",
   "execution_count": 29,
   "id": "5679b560",
   "metadata": {},
   "outputs": [
    {
     "data": {
      "text/plain": [
       "array([[7.330203]], dtype=float32)"
      ]
     },
     "execution_count": 29,
     "metadata": {},
     "output_type": "execute_result"
    }
   ],
   "source": [
    "yout = model.predict(xin)# \n",
    "yout = scalar.inverse_transform(yout)# valor de temperatura\n",
    "yout "
   ]
  },
  {
   "cell_type": "code",
   "execution_count": null,
   "id": "41265ce7",
   "metadata": {},
   "outputs": [],
   "source": []
  }
 ],
 "metadata": {
  "kernelspec": {
   "display_name": "entornomp1",
   "language": "python",
   "name": "entornomp1"
  },
  "language_info": {
   "codemirror_mode": {
    "name": "ipython",
    "version": 3
   },
   "file_extension": ".py",
   "mimetype": "text/x-python",
   "name": "python",
   "nbconvert_exporter": "python",
   "pygments_lexer": "ipython3",
   "version": "3.7.10"
  }
 },
 "nbformat": 4,
 "nbformat_minor": 5
}
