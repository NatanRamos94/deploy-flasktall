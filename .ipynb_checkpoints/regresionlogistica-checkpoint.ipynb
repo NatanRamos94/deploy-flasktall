{
 "cells": [
  {
   "cell_type": "code",
   "execution_count": 1,
   "id": "ccd0e8b7",
   "metadata": {},
   "outputs": [],
   "source": [
    "import numpy as np\n",
    "import pandas as pd\n",
    "import matplotlib.pyplot as plt\n",
    "import seaborn as sns"
   ]
  },
  {
   "cell_type": "code",
   "execution_count": 2,
   "id": "a22fc3b4",
   "metadata": {},
   "outputs": [],
   "source": [
    "# Cargamos el dataset a un DataFrame de pandas\n",
    "dfdata = pd.read_csv(\"mhealth_raw_data.csv\")"
   ]
  },
  {
   "cell_type": "code",
   "execution_count": 3,
   "id": "d64ff2ac",
   "metadata": {},
   "outputs": [
    {
     "data": {
      "text/html": [
       "<div>\n",
       "<style scoped>\n",
       "    .dataframe tbody tr th:only-of-type {\n",
       "        vertical-align: middle;\n",
       "    }\n",
       "\n",
       "    .dataframe tbody tr th {\n",
       "        vertical-align: top;\n",
       "    }\n",
       "\n",
       "    .dataframe thead th {\n",
       "        text-align: right;\n",
       "    }\n",
       "</style>\n",
       "<table border=\"1\" class=\"dataframe\">\n",
       "  <thead>\n",
       "    <tr style=\"text-align: right;\">\n",
       "      <th></th>\n",
       "      <th>alx</th>\n",
       "      <th>aly</th>\n",
       "      <th>alz</th>\n",
       "      <th>glx</th>\n",
       "      <th>gly</th>\n",
       "      <th>glz</th>\n",
       "      <th>arx</th>\n",
       "      <th>ary</th>\n",
       "      <th>arz</th>\n",
       "      <th>grx</th>\n",
       "      <th>gry</th>\n",
       "      <th>grz</th>\n",
       "      <th>Activity</th>\n",
       "      <th>subject</th>\n",
       "    </tr>\n",
       "  </thead>\n",
       "  <tbody>\n",
       "    <tr>\n",
       "      <th>0</th>\n",
       "      <td>2.1849</td>\n",
       "      <td>-9.6967</td>\n",
       "      <td>0.63077</td>\n",
       "      <td>0.103900</td>\n",
       "      <td>-0.84053</td>\n",
       "      <td>-0.68762</td>\n",
       "      <td>-8.6499</td>\n",
       "      <td>-4.5781</td>\n",
       "      <td>0.187760</td>\n",
       "      <td>-0.44902</td>\n",
       "      <td>-1.0103</td>\n",
       "      <td>0.034483</td>\n",
       "      <td>0</td>\n",
       "      <td>subject1</td>\n",
       "    </tr>\n",
       "    <tr>\n",
       "      <th>1</th>\n",
       "      <td>2.3876</td>\n",
       "      <td>-9.5080</td>\n",
       "      <td>0.68389</td>\n",
       "      <td>0.085343</td>\n",
       "      <td>-0.83865</td>\n",
       "      <td>-0.68369</td>\n",
       "      <td>-8.6275</td>\n",
       "      <td>-4.3198</td>\n",
       "      <td>0.023595</td>\n",
       "      <td>-0.44902</td>\n",
       "      <td>-1.0103</td>\n",
       "      <td>0.034483</td>\n",
       "      <td>0</td>\n",
       "      <td>subject1</td>\n",
       "    </tr>\n",
       "    <tr>\n",
       "      <th>2</th>\n",
       "      <td>2.4086</td>\n",
       "      <td>-9.5674</td>\n",
       "      <td>0.68113</td>\n",
       "      <td>0.085343</td>\n",
       "      <td>-0.83865</td>\n",
       "      <td>-0.68369</td>\n",
       "      <td>-8.5055</td>\n",
       "      <td>-4.2772</td>\n",
       "      <td>0.275720</td>\n",
       "      <td>-0.44902</td>\n",
       "      <td>-1.0103</td>\n",
       "      <td>0.034483</td>\n",
       "      <td>0</td>\n",
       "      <td>subject1</td>\n",
       "    </tr>\n",
       "    <tr>\n",
       "      <th>3</th>\n",
       "      <td>2.1814</td>\n",
       "      <td>-9.4301</td>\n",
       "      <td>0.55031</td>\n",
       "      <td>0.085343</td>\n",
       "      <td>-0.83865</td>\n",
       "      <td>-0.68369</td>\n",
       "      <td>-8.6279</td>\n",
       "      <td>-4.3163</td>\n",
       "      <td>0.367520</td>\n",
       "      <td>-0.45686</td>\n",
       "      <td>-1.0082</td>\n",
       "      <td>0.025862</td>\n",
       "      <td>0</td>\n",
       "      <td>subject1</td>\n",
       "    </tr>\n",
       "    <tr>\n",
       "      <th>4</th>\n",
       "      <td>2.4173</td>\n",
       "      <td>-9.3889</td>\n",
       "      <td>0.71098</td>\n",
       "      <td>0.085343</td>\n",
       "      <td>-0.83865</td>\n",
       "      <td>-0.68369</td>\n",
       "      <td>-8.7008</td>\n",
       "      <td>-4.1459</td>\n",
       "      <td>0.407290</td>\n",
       "      <td>-0.45686</td>\n",
       "      <td>-1.0082</td>\n",
       "      <td>0.025862</td>\n",
       "      <td>0</td>\n",
       "      <td>subject1</td>\n",
       "    </tr>\n",
       "  </tbody>\n",
       "</table>\n",
       "</div>"
      ],
      "text/plain": [
       "      alx     aly      alz       glx      gly      glz     arx     ary  \\\n",
       "0  2.1849 -9.6967  0.63077  0.103900 -0.84053 -0.68762 -8.6499 -4.5781   \n",
       "1  2.3876 -9.5080  0.68389  0.085343 -0.83865 -0.68369 -8.6275 -4.3198   \n",
       "2  2.4086 -9.5674  0.68113  0.085343 -0.83865 -0.68369 -8.5055 -4.2772   \n",
       "3  2.1814 -9.4301  0.55031  0.085343 -0.83865 -0.68369 -8.6279 -4.3163   \n",
       "4  2.4173 -9.3889  0.71098  0.085343 -0.83865 -0.68369 -8.7008 -4.1459   \n",
       "\n",
       "        arz      grx     gry       grz  Activity   subject  \n",
       "0  0.187760 -0.44902 -1.0103  0.034483         0  subject1  \n",
       "1  0.023595 -0.44902 -1.0103  0.034483         0  subject1  \n",
       "2  0.275720 -0.44902 -1.0103  0.034483         0  subject1  \n",
       "3  0.367520 -0.45686 -1.0082  0.025862         0  subject1  \n",
       "4  0.407290 -0.45686 -1.0082  0.025862         0  subject1  "
      ]
     },
     "execution_count": 3,
     "metadata": {},
     "output_type": "execute_result"
    }
   ],
   "source": [
    "dfdata.head()"
   ]
  },
  {
   "cell_type": "code",
   "execution_count": 4,
   "id": "fd706929",
   "metadata": {},
   "outputs": [
    {
     "data": {
      "text/html": [
       "<div>\n",
       "<style scoped>\n",
       "    .dataframe tbody tr th:only-of-type {\n",
       "        vertical-align: middle;\n",
       "    }\n",
       "\n",
       "    .dataframe tbody tr th {\n",
       "        vertical-align: top;\n",
       "    }\n",
       "\n",
       "    .dataframe thead th {\n",
       "        text-align: right;\n",
       "    }\n",
       "</style>\n",
       "<table border=\"1\" class=\"dataframe\">\n",
       "  <thead>\n",
       "    <tr style=\"text-align: right;\">\n",
       "      <th></th>\n",
       "      <th>alx</th>\n",
       "      <th>aly</th>\n",
       "      <th>alz</th>\n",
       "      <th>glx</th>\n",
       "      <th>gly</th>\n",
       "      <th>glz</th>\n",
       "      <th>arx</th>\n",
       "      <th>ary</th>\n",
       "      <th>arz</th>\n",
       "      <th>grx</th>\n",
       "      <th>gry</th>\n",
       "      <th>grz</th>\n",
       "      <th>Activity</th>\n",
       "      <th>subject</th>\n",
       "    </tr>\n",
       "  </thead>\n",
       "  <tbody>\n",
       "    <tr>\n",
       "      <th>1215740</th>\n",
       "      <td>1.7849</td>\n",
       "      <td>-9.8287</td>\n",
       "      <td>0.29725</td>\n",
       "      <td>-0.34137</td>\n",
       "      <td>-0.90056</td>\n",
       "      <td>-0.61493</td>\n",
       "      <td>-3.7198</td>\n",
       "      <td>-8.9071</td>\n",
       "      <td>0.29423</td>\n",
       "      <td>0.041176</td>\n",
       "      <td>-0.99384</td>\n",
       "      <td>-0.48060</td>\n",
       "      <td>0</td>\n",
       "      <td>subject10</td>\n",
       "    </tr>\n",
       "    <tr>\n",
       "      <th>1215741</th>\n",
       "      <td>1.8687</td>\n",
       "      <td>-9.8766</td>\n",
       "      <td>0.46236</td>\n",
       "      <td>-0.34137</td>\n",
       "      <td>-0.90056</td>\n",
       "      <td>-0.61493</td>\n",
       "      <td>-3.7160</td>\n",
       "      <td>-8.7455</td>\n",
       "      <td>0.44814</td>\n",
       "      <td>0.041176</td>\n",
       "      <td>-0.99384</td>\n",
       "      <td>-0.48060</td>\n",
       "      <td>0</td>\n",
       "      <td>subject10</td>\n",
       "    </tr>\n",
       "    <tr>\n",
       "      <th>1215742</th>\n",
       "      <td>1.6928</td>\n",
       "      <td>-9.9290</td>\n",
       "      <td>0.16631</td>\n",
       "      <td>-0.34137</td>\n",
       "      <td>-0.90056</td>\n",
       "      <td>-0.61493</td>\n",
       "      <td>-3.8824</td>\n",
       "      <td>-9.1155</td>\n",
       "      <td>0.45048</td>\n",
       "      <td>0.041176</td>\n",
       "      <td>-0.99384</td>\n",
       "      <td>-0.48060</td>\n",
       "      <td>0</td>\n",
       "      <td>subject10</td>\n",
       "    </tr>\n",
       "    <tr>\n",
       "      <th>1215743</th>\n",
       "      <td>1.5279</td>\n",
       "      <td>-9.6306</td>\n",
       "      <td>0.30458</td>\n",
       "      <td>-0.34137</td>\n",
       "      <td>-0.90056</td>\n",
       "      <td>-0.61493</td>\n",
       "      <td>-3.5564</td>\n",
       "      <td>-9.1441</td>\n",
       "      <td>0.59488</td>\n",
       "      <td>0.041176</td>\n",
       "      <td>-0.99384</td>\n",
       "      <td>-0.48060</td>\n",
       "      <td>0</td>\n",
       "      <td>subject10</td>\n",
       "    </tr>\n",
       "    <tr>\n",
       "      <th>1215744</th>\n",
       "      <td>1.6614</td>\n",
       "      <td>-9.8398</td>\n",
       "      <td>0.18088</td>\n",
       "      <td>-0.33210</td>\n",
       "      <td>-0.90432</td>\n",
       "      <td>-0.61886</td>\n",
       "      <td>-3.9035</td>\n",
       "      <td>-8.9324</td>\n",
       "      <td>0.76171</td>\n",
       "      <td>0.035294</td>\n",
       "      <td>-1.02050</td>\n",
       "      <td>-0.47198</td>\n",
       "      <td>0</td>\n",
       "      <td>subject10</td>\n",
       "    </tr>\n",
       "  </tbody>\n",
       "</table>\n",
       "</div>"
      ],
      "text/plain": [
       "            alx     aly      alz      glx      gly      glz     arx     ary  \\\n",
       "1215740  1.7849 -9.8287  0.29725 -0.34137 -0.90056 -0.61493 -3.7198 -8.9071   \n",
       "1215741  1.8687 -9.8766  0.46236 -0.34137 -0.90056 -0.61493 -3.7160 -8.7455   \n",
       "1215742  1.6928 -9.9290  0.16631 -0.34137 -0.90056 -0.61493 -3.8824 -9.1155   \n",
       "1215743  1.5279 -9.6306  0.30458 -0.34137 -0.90056 -0.61493 -3.5564 -9.1441   \n",
       "1215744  1.6614 -9.8398  0.18088 -0.33210 -0.90432 -0.61886 -3.9035 -8.9324   \n",
       "\n",
       "             arz       grx      gry      grz  Activity    subject  \n",
       "1215740  0.29423  0.041176 -0.99384 -0.48060         0  subject10  \n",
       "1215741  0.44814  0.041176 -0.99384 -0.48060         0  subject10  \n",
       "1215742  0.45048  0.041176 -0.99384 -0.48060         0  subject10  \n",
       "1215743  0.59488  0.041176 -0.99384 -0.48060         0  subject10  \n",
       "1215744  0.76171  0.035294 -1.02050 -0.47198         0  subject10  "
      ]
     },
     "execution_count": 4,
     "metadata": {},
     "output_type": "execute_result"
    }
   ],
   "source": [
    "dfdata.tail()"
   ]
  },
  {
   "cell_type": "code",
   "execution_count": 5,
   "id": "21046da9",
   "metadata": {},
   "outputs": [
    {
     "data": {
      "text/plain": [
       "alx         1215745\n",
       "aly         1215745\n",
       "alz         1215745\n",
       "glx         1215745\n",
       "gly         1215745\n",
       "glz         1215745\n",
       "arx         1215745\n",
       "ary         1215745\n",
       "arz         1215745\n",
       "grx         1215745\n",
       "gry         1215745\n",
       "grz         1215745\n",
       "Activity    1215745\n",
       "subject     1215745\n",
       "dtype: int64"
      ]
     },
     "execution_count": 5,
     "metadata": {},
     "output_type": "execute_result"
    }
   ],
   "source": [
    "dfdata.count()"
   ]
  },
  {
   "cell_type": "code",
   "execution_count": 6,
   "id": "98c90c75",
   "metadata": {},
   "outputs": [
    {
     "data": {
      "text/plain": [
       "alx         0\n",
       "aly         0\n",
       "alz         0\n",
       "glx         0\n",
       "gly         0\n",
       "glz         0\n",
       "arx         0\n",
       "ary         0\n",
       "arz         0\n",
       "grx         0\n",
       "gry         0\n",
       "grz         0\n",
       "Activity    0\n",
       "subject     0\n",
       "dtype: int64"
      ]
     },
     "execution_count": 6,
     "metadata": {},
     "output_type": "execute_result"
    }
   ],
   "source": [
    "dfdata.isnull().sum()"
   ]
  },
  {
   "cell_type": "code",
   "execution_count": 7,
   "id": "670be5ff",
   "metadata": {},
   "outputs": [
    {
     "data": {
      "text/html": [
       "<div>\n",
       "<style scoped>\n",
       "    .dataframe tbody tr th:only-of-type {\n",
       "        vertical-align: middle;\n",
       "    }\n",
       "\n",
       "    .dataframe tbody tr th {\n",
       "        vertical-align: top;\n",
       "    }\n",
       "\n",
       "    .dataframe thead th {\n",
       "        text-align: right;\n",
       "    }\n",
       "</style>\n",
       "<table border=\"1\" class=\"dataframe\">\n",
       "  <thead>\n",
       "    <tr style=\"text-align: right;\">\n",
       "      <th></th>\n",
       "      <th>alx</th>\n",
       "      <th>aly</th>\n",
       "      <th>alz</th>\n",
       "      <th>glx</th>\n",
       "      <th>gly</th>\n",
       "      <th>glz</th>\n",
       "      <th>arx</th>\n",
       "      <th>ary</th>\n",
       "      <th>arz</th>\n",
       "      <th>grx</th>\n",
       "      <th>gry</th>\n",
       "      <th>grz</th>\n",
       "      <th>Activity</th>\n",
       "    </tr>\n",
       "  </thead>\n",
       "  <tbody>\n",
       "    <tr>\n",
       "      <th>count</th>\n",
       "      <td>1.215745e+06</td>\n",
       "      <td>1.215745e+06</td>\n",
       "      <td>1.215745e+06</td>\n",
       "      <td>1.215745e+06</td>\n",
       "      <td>1.215745e+06</td>\n",
       "      <td>1.215745e+06</td>\n",
       "      <td>1.215745e+06</td>\n",
       "      <td>1.215745e+06</td>\n",
       "      <td>1.215745e+06</td>\n",
       "      <td>1.215745e+06</td>\n",
       "      <td>1.215745e+06</td>\n",
       "      <td>1.215745e+06</td>\n",
       "      <td>1.215745e+06</td>\n",
       "    </tr>\n",
       "    <tr>\n",
       "      <th>mean</th>\n",
       "      <td>1.494200e+00</td>\n",
       "      <td>-9.692878e+00</td>\n",
       "      <td>-9.548056e-01</td>\n",
       "      <td>-1.598951e-03</td>\n",
       "      <td>-6.166318e-01</td>\n",
       "      <td>-1.587811e-01</td>\n",
       "      <td>-3.713413e+00</td>\n",
       "      <td>-5.805526e+00</td>\n",
       "      <td>2.393880e+00</td>\n",
       "      <td>-2.761061e-01</td>\n",
       "      <td>-4.664340e-01</td>\n",
       "      <td>2.666335e-01</td>\n",
       "      <td>1.741465e+00</td>\n",
       "    </tr>\n",
       "    <tr>\n",
       "      <th>std</th>\n",
       "      <td>3.826485e+00</td>\n",
       "      <td>4.171303e+00</td>\n",
       "      <td>5.461803e+00</td>\n",
       "      <td>4.912172e-01</td>\n",
       "      <td>3.546406e-01</td>\n",
       "      <td>5.467979e-01</td>\n",
       "      <td>4.763586e+00</td>\n",
       "      <td>5.757639e+00</td>\n",
       "      <td>3.876503e+00</td>\n",
       "      <td>5.276888e-01</td>\n",
       "      <td>5.555510e-01</td>\n",
       "      <td>5.643804e-01</td>\n",
       "      <td>3.283679e+00</td>\n",
       "    </tr>\n",
       "    <tr>\n",
       "      <th>min</th>\n",
       "      <td>-2.214600e+01</td>\n",
       "      <td>-1.961900e+01</td>\n",
       "      <td>-1.937300e+01</td>\n",
       "      <td>-2.146600e+00</td>\n",
       "      <td>-7.789900e+00</td>\n",
       "      <td>-2.626700e+00</td>\n",
       "      <td>-2.236100e+01</td>\n",
       "      <td>-1.897200e+01</td>\n",
       "      <td>-1.823900e+01</td>\n",
       "      <td>-8.339200e+00</td>\n",
       "      <td>-3.570800e+00</td>\n",
       "      <td>-2.689700e+00</td>\n",
       "      <td>0.000000e+00</td>\n",
       "    </tr>\n",
       "    <tr>\n",
       "      <th>25%</th>\n",
       "      <td>1.413100e-01</td>\n",
       "      <td>-1.020100e+01</td>\n",
       "      <td>-2.649400e+00</td>\n",
       "      <td>-4.359900e-01</td>\n",
       "      <td>-8.180100e-01</td>\n",
       "      <td>-5.933200e-01</td>\n",
       "      <td>-6.076000e+00</td>\n",
       "      <td>-9.404200e+00</td>\n",
       "      <td>1.296500e-01</td>\n",
       "      <td>-7.058800e-01</td>\n",
       "      <td>-8.973300e-01</td>\n",
       "      <td>-2.370700e-01</td>\n",
       "      <td>0.000000e+00</td>\n",
       "    </tr>\n",
       "    <tr>\n",
       "      <th>50%</th>\n",
       "      <td>1.308900e+00</td>\n",
       "      <td>-9.670300e+00</td>\n",
       "      <td>-1.645600e-02</td>\n",
       "      <td>-1.484200e-02</td>\n",
       "      <td>-7.073200e-01</td>\n",
       "      <td>-1.905700e-01</td>\n",
       "      <td>-2.977600e+00</td>\n",
       "      <td>-7.461500e+00</td>\n",
       "      <td>1.928100e+00</td>\n",
       "      <td>-3.549000e-01</td>\n",
       "      <td>-6.345000e-01</td>\n",
       "      <td>3.017200e-01</td>\n",
       "      <td>0.000000e+00</td>\n",
       "    </tr>\n",
       "    <tr>\n",
       "      <th>75%</th>\n",
       "      <td>2.575800e+00</td>\n",
       "      <td>-9.042200e+00</td>\n",
       "      <td>1.301300e+00</td>\n",
       "      <td>4.489800e-01</td>\n",
       "      <td>-5.403400e-01</td>\n",
       "      <td>3.222000e-01</td>\n",
       "      <td>-1.193700e+00</td>\n",
       "      <td>-2.533900e+00</td>\n",
       "      <td>4.914700e+00</td>\n",
       "      <td>9.607800e-02</td>\n",
       "      <td>-1.067800e-01</td>\n",
       "      <td>7.780200e-01</td>\n",
       "      <td>2.000000e+00</td>\n",
       "    </tr>\n",
       "    <tr>\n",
       "      <th>max</th>\n",
       "      <td>2.005400e+01</td>\n",
       "      <td>2.116100e+01</td>\n",
       "      <td>2.501500e+01</td>\n",
       "      <td>6.048400e+01</td>\n",
       "      <td>2.011300e+00</td>\n",
       "      <td>2.770100e+00</td>\n",
       "      <td>1.986400e+01</td>\n",
       "      <td>2.219100e+01</td>\n",
       "      <td>2.574100e+01</td>\n",
       "      <td>3.319600e+00</td>\n",
       "      <td>1.556500e+00</td>\n",
       "      <td>2.750000e+00</td>\n",
       "      <td>1.200000e+01</td>\n",
       "    </tr>\n",
       "  </tbody>\n",
       "</table>\n",
       "</div>"
      ],
      "text/plain": [
       "                alx           aly           alz           glx           gly  \\\n",
       "count  1.215745e+06  1.215745e+06  1.215745e+06  1.215745e+06  1.215745e+06   \n",
       "mean   1.494200e+00 -9.692878e+00 -9.548056e-01 -1.598951e-03 -6.166318e-01   \n",
       "std    3.826485e+00  4.171303e+00  5.461803e+00  4.912172e-01  3.546406e-01   \n",
       "min   -2.214600e+01 -1.961900e+01 -1.937300e+01 -2.146600e+00 -7.789900e+00   \n",
       "25%    1.413100e-01 -1.020100e+01 -2.649400e+00 -4.359900e-01 -8.180100e-01   \n",
       "50%    1.308900e+00 -9.670300e+00 -1.645600e-02 -1.484200e-02 -7.073200e-01   \n",
       "75%    2.575800e+00 -9.042200e+00  1.301300e+00  4.489800e-01 -5.403400e-01   \n",
       "max    2.005400e+01  2.116100e+01  2.501500e+01  6.048400e+01  2.011300e+00   \n",
       "\n",
       "                glz           arx           ary           arz           grx  \\\n",
       "count  1.215745e+06  1.215745e+06  1.215745e+06  1.215745e+06  1.215745e+06   \n",
       "mean  -1.587811e-01 -3.713413e+00 -5.805526e+00  2.393880e+00 -2.761061e-01   \n",
       "std    5.467979e-01  4.763586e+00  5.757639e+00  3.876503e+00  5.276888e-01   \n",
       "min   -2.626700e+00 -2.236100e+01 -1.897200e+01 -1.823900e+01 -8.339200e+00   \n",
       "25%   -5.933200e-01 -6.076000e+00 -9.404200e+00  1.296500e-01 -7.058800e-01   \n",
       "50%   -1.905700e-01 -2.977600e+00 -7.461500e+00  1.928100e+00 -3.549000e-01   \n",
       "75%    3.222000e-01 -1.193700e+00 -2.533900e+00  4.914700e+00  9.607800e-02   \n",
       "max    2.770100e+00  1.986400e+01  2.219100e+01  2.574100e+01  3.319600e+00   \n",
       "\n",
       "                gry           grz      Activity  \n",
       "count  1.215745e+06  1.215745e+06  1.215745e+06  \n",
       "mean  -4.664340e-01  2.666335e-01  1.741465e+00  \n",
       "std    5.555510e-01  5.643804e-01  3.283679e+00  \n",
       "min   -3.570800e+00 -2.689700e+00  0.000000e+00  \n",
       "25%   -8.973300e-01 -2.370700e-01  0.000000e+00  \n",
       "50%   -6.345000e-01  3.017200e-01  0.000000e+00  \n",
       "75%   -1.067800e-01  7.780200e-01  2.000000e+00  \n",
       "max    1.556500e+00  2.750000e+00  1.200000e+01  "
      ]
     },
     "execution_count": 7,
     "metadata": {},
     "output_type": "execute_result"
    }
   ],
   "source": [
    "dfdata.describe()"
   ]
  },
  {
   "cell_type": "code",
   "execution_count": 8,
   "id": "932efcd9",
   "metadata": {},
   "outputs": [
    {
     "data": {
      "text/plain": [
       "array([ 0,  1,  2,  3,  4,  6,  7,  8,  9, 10, 11, 12,  5], dtype=int64)"
      ]
     },
     "execution_count": 8,
     "metadata": {},
     "output_type": "execute_result"
    }
   ],
   "source": [
    "# Verificar el tipo y número de Actividades\n",
    "dfdata.Activity.unique()"
   ]
  },
  {
   "cell_type": "code",
   "execution_count": 9,
   "id": "d64d6d84",
   "metadata": {},
   "outputs": [
    {
     "data": {
      "text/plain": [
       "['Standing still',\n",
       " 'Sitting and relaxing',\n",
       " 'Lying down',\n",
       " 'Walking',\n",
       " 'Climbing stairs',\n",
       " 'Waist bends forward',\n",
       " 'Frontal elevation of arms',\n",
       " 'Knees bending',\n",
       " 'Cycling',\n",
       " 'Jogging',\n",
       " 'Running',\n",
       " 'Jump']"
      ]
     },
     "execution_count": 9,
     "metadata": {},
     "output_type": "execute_result"
    }
   ],
   "source": [
    "# Creamos una lista con los labels de las Actividades\n",
    "# La actividad 0 es None. Se eliminó esa actividad\n",
    "labels = ['Standing still','Sitting and relaxing','Lying down','Walking'\n",
    "         ,'Climbing stairs','Waist bends forward','Frontal elevation of arms'\n",
    "         , 'Knees bending', 'Cycling','Jogging','Running','Jump']\n",
    "\n",
    "labels"
   ]
  },
  {
   "cell_type": "code",
   "execution_count": 10,
   "id": "0b327c4c",
   "metadata": {},
   "outputs": [
    {
     "data": {
      "image/png": "[encoded data removed]",
      "text/plain": [
       "<Figure size 432x288 with 1 Axes>"
      ]
     },
     "metadata": {
      "needs_background": "light"
     },
     "output_type": "display_data"
    }
   ],
   "source": [
    "# Graficamos el numero de datos asociado a cada Actividad\n",
    "sns.countplot(x='Activity',data=dfdata)\n",
    "plt.xticks(x = dfdata['Activity'])\n",
    "plt.show()"
   ]
  },
  {
   "cell_type": "code",
   "execution_count": null,
   "id": "73346bc1",
   "metadata": {},
   "outputs": [],
   "source": []
  },
  {
   "cell_type": "code",
   "execution_count": 11,
   "id": "136f59ac",
   "metadata": {},
   "outputs": [],
   "source": [
    "# Submeastreamos el dataset para hacer que sea balanceado\n",
    "from sklearn.utils import resample\n",
    "\n",
    "dfdata2 = pd.DataFrame()\n",
    "for i in range(12):\n",
    "    df_aux = dfdata[dfdata.Activity==i+1]\n",
    "    df_aux = resample(df_aux, n_samples=10324, random_state=12)\n",
    "    dfdata2 = pd.concat([dfdata2,df_aux])"
   ]
  },
  {
   "cell_type": "code",
   "execution_count": 12,
   "id": "2512aba7",
   "metadata": {},
   "outputs": [
    {
     "data": {
      "text/plain": [
       "array([ 1,  2,  3,  4,  5,  6,  7,  8,  9, 10, 11, 12], dtype=int64)"
      ]
     },
     "execution_count": 12,
     "metadata": {},
     "output_type": "execute_result"
    }
   ],
   "source": [
    "dfdata2.Activity.unique()"
   ]
  },
  {
   "cell_type": "code",
   "execution_count": 13,
   "id": "d9295f69",
   "metadata": {},
   "outputs": [],
   "source": [
    "dfdata2['Activity'] = dfdata2['Activity']-1"
   ]
  },
  {
   "cell_type": "code",
   "execution_count": 14,
   "id": "73e450f8",
   "metadata": {},
   "outputs": [
    {
     "data": {
      "image/png": "[encoded data removed]",
      "text/plain": [
       "<Figure size 432x288 with 1 Axes>"
      ]
     },
     "metadata": {
      "needs_background": "light"
     },
     "output_type": "display_data"
    }
   ],
   "source": [
    "# Graficamos el numero de datos asociado a cada Actividad\n",
    "sns.countplot(x='Activity',data=dfdata2)\n",
    "plt.xticks(x = dfdata2['Activity'])\n",
    "plt.show()"
   ]
  },
  {
   "cell_type": "code",
   "execution_count": 15,
   "id": "fa7652a3",
   "metadata": {},
   "outputs": [
    {
     "data": {
      "text/html": [
       "<div>\n",
       "<style scoped>\n",
       "    .dataframe tbody tr th:only-of-type {\n",
       "        vertical-align: middle;\n",
       "    }\n",
       "\n",
       "    .dataframe tbody tr th {\n",
       "        vertical-align: top;\n",
       "    }\n",
       "\n",
       "    .dataframe thead th {\n",
       "        text-align: right;\n",
       "    }\n",
       "</style>\n",
       "<table border=\"1\" class=\"dataframe\">\n",
       "  <thead>\n",
       "    <tr style=\"text-align: right;\">\n",
       "      <th></th>\n",
       "      <th>alx</th>\n",
       "      <th>aly</th>\n",
       "      <th>alz</th>\n",
       "      <th>glx</th>\n",
       "      <th>gly</th>\n",
       "      <th>glz</th>\n",
       "      <th>arx</th>\n",
       "      <th>ary</th>\n",
       "      <th>arz</th>\n",
       "      <th>grx</th>\n",
       "      <th>gry</th>\n",
       "      <th>grz</th>\n",
       "      <th>Activity</th>\n",
       "      <th>subject</th>\n",
       "    </tr>\n",
       "  </thead>\n",
       "  <tbody>\n",
       "    <tr>\n",
       "      <th>535628</th>\n",
       "      <td>2.04060</td>\n",
       "      <td>-9.6081</td>\n",
       "      <td>0.57125</td>\n",
       "      <td>0.73469</td>\n",
       "      <td>-0.65103</td>\n",
       "      <td>-0.11984</td>\n",
       "      <td>-2.2210</td>\n",
       "      <td>-9.6973</td>\n",
       "      <td>0.26513</td>\n",
       "      <td>0.425490</td>\n",
       "      <td>-1.01850</td>\n",
       "      <td>0.41810</td>\n",
       "      <td>0</td>\n",
       "      <td>subject5</td>\n",
       "    </tr>\n",
       "    <tr>\n",
       "      <th>207771</th>\n",
       "      <td>0.52666</td>\n",
       "      <td>-9.7816</td>\n",
       "      <td>1.04740</td>\n",
       "      <td>0.64750</td>\n",
       "      <td>-0.69231</td>\n",
       "      <td>0.19253</td>\n",
       "      <td>-3.2801</td>\n",
       "      <td>-8.8206</td>\n",
       "      <td>1.94440</td>\n",
       "      <td>0.052941</td>\n",
       "      <td>-0.78439</td>\n",
       "      <td>0.90948</td>\n",
       "      <td>0</td>\n",
       "      <td>subject2</td>\n",
       "    </tr>\n",
       "    <tr>\n",
       "      <th>995975</th>\n",
       "      <td>0.69173</td>\n",
       "      <td>-9.8498</td>\n",
       "      <td>1.16030</td>\n",
       "      <td>-0.54545</td>\n",
       "      <td>-0.77111</td>\n",
       "      <td>0.36149</td>\n",
       "      <td>-2.7749</td>\n",
       "      <td>-9.2509</td>\n",
       "      <td>0.91246</td>\n",
       "      <td>-0.813730</td>\n",
       "      <td>-0.69199</td>\n",
       "      <td>-0.16595</td>\n",
       "      <td>0</td>\n",
       "      <td>subject9</td>\n",
       "    </tr>\n",
       "    <tr>\n",
       "      <th>785406</th>\n",
       "      <td>0.90178</td>\n",
       "      <td>-9.7738</td>\n",
       "      <td>1.83280</td>\n",
       "      <td>0.30056</td>\n",
       "      <td>-0.62101</td>\n",
       "      <td>0.62868</td>\n",
       "      <td>-1.6126</td>\n",
       "      <td>-9.1453</td>\n",
       "      <td>2.46980</td>\n",
       "      <td>-0.058824</td>\n",
       "      <td>-0.64476</td>\n",
       "      <td>0.96552</td>\n",
       "      <td>0</td>\n",
       "      <td>subject7</td>\n",
       "    </tr>\n",
       "    <tr>\n",
       "      <th>297714</th>\n",
       "      <td>-0.13041</td>\n",
       "      <td>-9.8053</td>\n",
       "      <td>1.64380</td>\n",
       "      <td>-0.44898</td>\n",
       "      <td>-0.64916</td>\n",
       "      <td>0.60707</td>\n",
       "      <td>-2.3478</td>\n",
       "      <td>-9.4592</td>\n",
       "      <td>1.07910</td>\n",
       "      <td>-0.831370</td>\n",
       "      <td>-0.65503</td>\n",
       "      <td>0.13578</td>\n",
       "      <td>0</td>\n",
       "      <td>subject3</td>\n",
       "    </tr>\n",
       "  </tbody>\n",
       "</table>\n",
       "</div>"
      ],
      "text/plain": [
       "            alx     aly      alz      glx      gly      glz     arx     ary  \\\n",
       "535628  2.04060 -9.6081  0.57125  0.73469 -0.65103 -0.11984 -2.2210 -9.6973   \n",
       "207771  0.52666 -9.7816  1.04740  0.64750 -0.69231  0.19253 -3.2801 -8.8206   \n",
       "995975  0.69173 -9.8498  1.16030 -0.54545 -0.77111  0.36149 -2.7749 -9.2509   \n",
       "785406  0.90178 -9.7738  1.83280  0.30056 -0.62101  0.62868 -1.6126 -9.1453   \n",
       "297714 -0.13041 -9.8053  1.64380 -0.44898 -0.64916  0.60707 -2.3478 -9.4592   \n",
       "\n",
       "            arz       grx      gry      grz  Activity   subject  \n",
       "535628  0.26513  0.425490 -1.01850  0.41810         0  subject5  \n",
       "207771  1.94440  0.052941 -0.78439  0.90948         0  subject2  \n",
       "995975  0.91246 -0.813730 -0.69199 -0.16595         0  subject9  \n",
       "785406  2.46980 -0.058824 -0.64476  0.96552         0  subject7  \n",
       "297714  1.07910 -0.831370 -0.65503  0.13578         0  subject3  "
      ]
     },
     "execution_count": 15,
     "metadata": {},
     "output_type": "execute_result"
    }
   ],
   "source": [
    "dfdata2.head()"
   ]
  },
  {
   "cell_type": "code",
   "execution_count": 16,
   "id": "a368efeb",
   "metadata": {},
   "outputs": [
    {
     "name": "stdout",
     "output_type": "stream",
     "text": [
      "(123888, 12) (123888,)\n"
     ]
    }
   ],
   "source": [
    "# Construimos las variables independientes\n",
    "X = dfdata2.drop(['subject','Activity'],axis = 1)\n",
    "Y = dfdata2['Activity']\n",
    "\n",
    "# Convertir esos dataframes en array numpy\n",
    "X = np.asarray(X)\n",
    "Y = np.asarray(Y)\n",
    "\n",
    "print(X.shape,Y.shape)"
   ]
  },
  {
   "cell_type": "code",
   "execution_count": 17,
   "id": "d3b50e0f",
   "metadata": {},
   "outputs": [
    {
     "data": {
      "text/plain": [
       "((99110, 12), (24778, 12), (99110,), (24778,))"
      ]
     },
     "execution_count": 17,
     "metadata": {},
     "output_type": "execute_result"
    }
   ],
   "source": [
    "# Dividimos el dataset en datos de entrenamiento y prueba\n",
    "from sklearn.model_selection import train_test_split\n",
    "\n",
    "xtrain, xtest, ytrain, ytest = train_test_split(X, Y, test_size = 0.2, random_state = 42)\n",
    "\n",
    "xtrain.shape, xtest.shape, ytrain.shape, ytest.shape"
   ]
  },
  {
   "cell_type": "code",
   "execution_count": 18,
   "id": "e1adff3a",
   "metadata": {},
   "outputs": [],
   "source": [
    "#costruir modelo de regresion logistica\n",
    "from sklearn.linear_model import LogisticRegression\n",
    "logisticR = LogisticRegression(max_iter=50000)#numero de veces que va ajustar el modelo,empieze a interar "
   ]
  },
  {
   "cell_type": "code",
   "execution_count": 19,
   "id": "0e0e9f68",
   "metadata": {},
   "outputs": [
    {
     "data": {
      "text/plain": [
       "LogisticRegression(max_iter=50000)"
      ]
     },
     "execution_count": 19,
     "metadata": {},
     "output_type": "execute_result"
    }
   ],
   "source": [
    "#Ajustamos el modelo de regression logistica\n",
    "\n",
    "logisticR.fit(xtrain,ytrain)"
   ]
  },
  {
   "cell_type": "code",
   "execution_count": 21,
   "id": "7eb3b8e9",
   "metadata": {},
   "outputs": [
    {
     "name": "stdout",
     "output_type": "stream",
     "text": [
      "              precision    recall  f1-score   support\n",
      "\n",
      "           0     0.5563    0.6683    0.6072      2077\n",
      "           1     0.6379    0.6815    0.6590      2107\n",
      "           2     0.9823    1.0000    0.9911      2053\n",
      "           3     0.5016    0.5049    0.5033      2127\n",
      "           4     0.5096    0.3258    0.3975      2044\n",
      "           5     0.4856    0.6027    0.5378      2064\n",
      "           6     0.6563    0.5990    0.6264      2050\n",
      "           7     0.5167    0.5783    0.5458      2082\n",
      "           8     0.8202    0.8924    0.8548      2045\n",
      "           9     0.6004    0.5522    0.5753      2030\n",
      "          10     0.5799    0.5868    0.5833      2023\n",
      "          11     0.3863    0.2962    0.3353      2076\n",
      "\n",
      "    accuracy                         0.6070     24778\n",
      "   macro avg     0.6028    0.6074    0.6014     24778\n",
      "weighted avg     0.6021    0.6070    0.6009     24778\n",
      "\n"
     ]
    },
    {
     "data": {
      "image/png": "[encoded data removed]",
      "text/plain": [
       "<Figure size 432x432 with 1 Axes>"
      ]
     },
     "metadata": {
      "needs_background": "light"
     },
     "output_type": "display_data"
    }
   ],
   "source": [
    "#Evaluamos desempeño\n",
    "from mlxtend.plotting import plot_confusion_matrix\n",
    "from sklearn.metrics import confusion_matrix\n",
    "from sklearn import metrics\n",
    "#calculamos las salidas de preddiccion con los datos dtaset\n",
    "ypred= logisticR.predict(xtest)\n",
    "#usando la salida esperada y la salida de prediccion calculamos la matriz\n",
    "matriz=confusion_matrix(ytest,ypred)\n",
    "\n",
    "plot_confusion_matrix(conf_mat=matriz, figsize=(6,6), show_normed =False)\n",
    "plt.tight_layout()\n",
    "\n",
    "print (metrics.classification_report(ytest, ypred, digits=4))\n"
   ]
  },
  {
   "cell_type": "code",
   "execution_count": 28,
   "id": "53c2327f",
   "metadata": {},
   "outputs": [
    {
     "ename": "SyntaxError",
     "evalue": "invalid syntax (<ipython-input-28-f7949c9cda9a>, line 4)",
     "output_type": "error",
     "traceback": [
      "\u001b[1;36m  File \u001b[1;32m\"<ipython-input-28-f7949c9cda9a>\"\u001b[1;36m, line \u001b[1;32m4\u001b[0m\n\u001b[1;33m    with open(pkl_filename,'wb') as file\u001b[0m\n\u001b[1;37m                                        ^\u001b[0m\n\u001b[1;31mSyntaxError\u001b[0m\u001b[1;31m:\u001b[0m invalid syntax\n"
     ]
    }
   ],
   "source": [
    "#como guardar este modelo en disco\n",
    "import pickle\n",
    "pkl_filename = 'logisticR'\n",
    "with open(pkl_filename,'wb') as file\n",
    "    pickle.dump(logisticR,file)"
   ]
  },
  {
   "cell_type": "code",
   "execution_count": null,
   "id": "2f1a7041",
   "metadata": {},
   "outputs": [],
   "source": [
    "#cargar \n",
    "with open('logisticR.pkl','rb') as file  \n",
    "    logisticR2 = pickled.load(file)\n",
    "    logisticR2"
   ]
  },
  {
   "cell_type": "code",
   "execution_count": null,
   "id": "82defeb0",
   "metadata": {},
   "outputs": [],
   "source": [
    "xin = np.array([0.69176, -9.8498, 1.16030, -0.54545, -0.77111, 0.36149, -2.7749, -9.2509, 0.91246, -0.81373, -0.69199, -0.16595])\n",
    "xin.shape"
   ]
  },
  {
   "cell_type": "code",
   "execution_count": null,
   "id": "ecc0184c",
   "metadata": {},
   "outputs": [],
   "source": [
    "xin = xin.reshape(1,12) #corresponda con la entrada\n",
    "xin.shape"
   ]
  },
  {
   "cell_type": "code",
   "execution_count": 20,
   "id": "f136bf61",
   "metadata": {},
   "outputs": [
    {
     "ename": "NameError",
     "evalue": "name 'logisticR2' is not defined",
     "output_type": "error",
     "traceback": [
      "\u001b[1;31m---------------------------------------------------------------------------\u001b[0m",
      "\u001b[1;31mNameError\u001b[0m                                 Traceback (most recent call last)",
      "\u001b[1;32m<ipython-input-20-36b8d42ab3eb>\u001b[0m in \u001b[0;36m<module>\u001b[1;34m\u001b[0m\n\u001b[1;32m----> 1\u001b[1;33m \u001b[0myout\u001b[0m \u001b[1;33m=\u001b[0m  \u001b[0mlogisticR2\u001b[0m\u001b[1;33m.\u001b[0m\u001b[0mpredic\u001b[0m\u001b[1;33m(\u001b[0m\u001b[0mxin\u001b[0m\u001b[1;33m)\u001b[0m\u001b[1;33m\u001b[0m\u001b[1;33m\u001b[0m\u001b[0m\n\u001b[0m\u001b[0;32m      2\u001b[0m \u001b[0myout\u001b[0m\u001b[1;33m\u001b[0m\u001b[1;33m\u001b[0m\u001b[0m\n",
      "\u001b[1;31mNameError\u001b[0m: name 'logisticR2' is not defined"
     ]
    }
   ],
   "source": [
    "yout =  logisticR2.predic(xin)\n",
    "yout"
   ]
  },
  {
   "cell_type": "code",
   "execution_count": null,
   "id": "59706fcd",
   "metadata": {},
   "outputs": [],
   "source": [
    "labels[yout[0]]"
   ]
  }
 ],
 "metadata": {
  "kernelspec": {
   "display_name": "entornomp1",
   "language": "python",
   "name": "entornomp1"
  },
  "language_info": {
   "codemirror_mode": {
    "name": "ipython",
    "version": 3
   },
   "file_extension": ".py",
   "mimetype": "text/x-python",
   "name": "python",
   "nbconvert_exporter": "python",
   "pygments_lexer": "ipython3",
   "version": "3.7.10"
  }
 },
 "nbformat": 4,
 "nbformat_minor": 5
}
